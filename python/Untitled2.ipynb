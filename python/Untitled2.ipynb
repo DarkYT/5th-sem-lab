{
 "cells": [
  {
   "cell_type": "code",
   "execution_count": 1,
   "id": "46070ea9",
   "metadata": {},
   "outputs": [
    {
     "name": "stdout",
     "output_type": "stream",
     "text": [
      "my name is spandan and i am 20 years old\n"
     ]
    }
   ],
   "source": [
    "a=\"spandan\"\n",
    "b=20\n",
    "print(f\"my name is {a} and i am {b} years old\")"
   ]
  },
  {
   "cell_type": "code",
   "execution_count": 2,
   "id": "48b86035",
   "metadata": {},
   "outputs": [
    {
     "name": "stdout",
     "output_type": "stream",
     "text": [
      "my name is spandan and i am 20 years old\n"
     ]
    }
   ],
   "source": [
    "a=\"spandan\"\n",
    "b=20\n",
    "print(f'my name is {a} and i am {b} years old')"
   ]
  },
  {
   "cell_type": "code",
   "execution_count": 2,
   "id": "777f0783",
   "metadata": {},
   "outputs": [
    {
     "name": "stdout",
     "output_type": "stream",
     "text": [
      "99\n",
      "98\n",
      "97\n",
      "96\n",
      "95\n",
      "94\n",
      "93\n",
      "92\n",
      "91\n",
      "90\n",
      "89\n",
      "88\n",
      "87\n",
      "86\n",
      "85\n",
      "84\n",
      "83\n",
      "82\n",
      "81\n",
      "80\n",
      "79\n",
      "78\n",
      "77\n",
      "76\n",
      "75\n",
      "74\n",
      "73\n",
      "72\n",
      "71\n",
      "70\n",
      "69\n",
      "68\n",
      "67\n",
      "66\n",
      "65\n",
      "64\n",
      "63\n",
      "62\n",
      "61\n",
      "60\n",
      "59\n",
      "58\n",
      "57\n",
      "56\n",
      "55\n",
      "54\n",
      "53\n",
      "52\n",
      "51\n",
      "50\n",
      "49\n",
      "48\n",
      "47\n",
      "46\n",
      "45\n",
      "44\n",
      "43\n",
      "42\n",
      "41\n",
      "40\n",
      "39\n",
      "38\n",
      "37\n",
      "36\n",
      "35\n",
      "34\n",
      "33\n",
      "32\n",
      "31\n",
      "30\n",
      "29\n",
      "28\n",
      "27\n",
      "26\n",
      "25\n",
      "24\n",
      "23\n",
      "22\n",
      "21\n",
      "20\n",
      "19\n",
      "18\n",
      "17\n",
      "16\n",
      "15\n",
      "14\n",
      "13\n",
      "12\n",
      "11\n",
      "10\n",
      "9\n",
      "8\n",
      "7\n",
      "6\n",
      "5\n",
      "4\n",
      "3\n",
      "2\n",
      "1\n",
      "0\n",
      "-1\n",
      "-2\n",
      "-3\n",
      "-4\n",
      "-5\n",
      "-6\n",
      "-7\n",
      "-8\n",
      "-9\n",
      "-10\n",
      "-11\n"
     ]
    }
   ],
   "source": [
    "for i in range(99,-12,-1):\n",
    "    print(i)"
   ]
  },
  {
   "cell_type": "code",
   "execution_count": 3,
   "id": "224892f9",
   "metadata": {},
   "outputs": [
    {
     "name": "stdout",
     "output_type": "stream",
     "text": [
      "False\n"
     ]
    }
   ],
   "source": [
    "print((.1+.2)==.3)"
   ]
  },
  {
   "cell_type": "code",
   "execution_count": 4,
   "id": "65ab2b67",
   "metadata": {},
   "outputs": [
    {
     "data": {
      "text/plain": [
       "0.30000000000000004"
      ]
     },
     "execution_count": 4,
     "metadata": {},
     "output_type": "execute_result"
    }
   ],
   "source": [
    "0.1+0.2\n"
   ]
  },
  {
   "cell_type": "code",
   "execution_count": 10,
   "id": "c8270d01",
   "metadata": {},
   "outputs": [
    {
     "name": "stdout",
     "output_type": "stream",
     "text": [
      "0.3\n",
      "True\n"
     ]
    }
   ],
   "source": [
    "from decimal import Decimal\n",
    "a=Decimal('.1')\n",
    "b=Decimal('.2')\n",
    "print(a+b)\n",
    "print((a+b)== Decimal('.3'))\n",
    "\n",
    "\n"
   ]
  },
  {
   "cell_type": "code",
   "execution_count": 17,
   "id": "494f91e3",
   "metadata": {},
   "outputs": [
    {
     "name": "stdout",
     "output_type": "stream",
     "text": [
      "the compound Intrest is 3627970560000.0\n"
     ]
    }
   ],
   "source": [
    "principal = 10000\n",
    "rate=5\n",
    "n=1\n",
    "for i in range(0,12):\n",
    "     compIntrest=(principal*(1+(rate/n))**(n*i))\n",
    "print(f\"the compound Intrest is {compIntrest}\")"
   ]
  },
  {
   "cell_type": "code",
   "execution_count": 18,
   "id": "ba4ff171",
   "metadata": {},
   "outputs": [
    {
     "name": "stdout",
     "output_type": "stream",
     "text": [
      "0\n",
      "1\n",
      "2\n",
      "3\n",
      "4\n"
     ]
    }
   ],
   "source": [
    "for i in range(10):\n",
    "    if(i==5):\n",
    "        break;\n",
    "    print(i)"
   ]
  },
  {
   "cell_type": "code",
   "execution_count": 19,
   "id": "b5b3bc11",
   "metadata": {},
   "outputs": [
    {
     "name": "stdout",
     "output_type": "stream",
     "text": [
      "0\n",
      "1\n",
      "2\n",
      "3\n",
      "4\n",
      "6\n",
      "7\n",
      "8\n",
      "9\n"
     ]
    }
   ],
   "source": [
    "for i in range(10):\n",
    "    if(i==5):\n",
    "        continue;\n",
    "    print(i)"
   ]
  },
  {
   "cell_type": "code",
   "execution_count": 20,
   "id": "4656bb2f",
   "metadata": {},
   "outputs": [
    {
     "data": {
      "text/plain": [
       "3"
      ]
     },
     "execution_count": 20,
     "metadata": {},
     "output_type": "execute_result"
    }
   ],
   "source": [
    "2 and 3\n"
   ]
  },
  {
   "cell_type": "code",
   "execution_count": 21,
   "id": "66e2458d",
   "metadata": {},
   "outputs": [
    {
     "data": {
      "text/plain": [
       "2"
      ]
     },
     "execution_count": 21,
     "metadata": {},
     "output_type": "execute_result"
    }
   ],
   "source": [
    "2 or 3"
   ]
  },
  {
   "cell_type": "code",
   "execution_count": 22,
   "id": "b1e6ed94",
   "metadata": {},
   "outputs": [
    {
     "data": {
      "text/plain": [
       "False"
      ]
     },
     "execution_count": 22,
     "metadata": {},
     "output_type": "execute_result"
    }
   ],
   "source": [
    "not 2"
   ]
  },
  {
   "cell_type": "code",
   "execution_count": 30,
   "id": "aa944b1e",
   "metadata": {},
   "outputs": [
    {
     "name": "stdout",
     "output_type": "stream",
     "text": [
      "100 \n"
     ]
    }
   ],
   "source": [
    "def reverse_string(s):\n",
    "    return s[::-1]\n",
    "n= 4\n",
    "binar=\" \"\n",
    "while(n!=0):\n",
    "    dig=n%2\n",
    "    n=n//2\n",
    "    binar+=str(dig)\n",
    "    \n",
    "print(reverse_string(binar))\n",
    "    "
   ]
  },
  {
   "cell_type": "code",
   "execution_count": 33,
   "id": "e84ad8b3",
   "metadata": {},
   "outputs": [
    {
     "name": "stdout",
     "output_type": "stream",
     "text": [
      "9\n"
     ]
    }
   ],
   "source": [
    "n= 1001\n",
    "sm=0\n",
    "c=0\n",
    "while(n!=0):\n",
    "    dig=n%10\n",
    "    sm+=(dig*(2**c))\n",
    "    c+=1\n",
    "    n=n//10\n",
    "print(sm)    "
   ]
  },
  {
   "cell_type": "code",
   "execution_count": 34,
   "id": "beb3b015",
   "metadata": {},
   "outputs": [
    {
     "name": "stdout",
     "output_type": "stream",
     "text": [
      "0$1$2$3$4$5$6$7$8$9$"
     ]
    }
   ],
   "source": [
    "for i in range(10):\n",
    "    print(i, end=\"$\")"
   ]
  },
  {
   "cell_type": "code",
   "execution_count": 35,
   "id": "85f38bad",
   "metadata": {},
   "outputs": [
    {
     "name": "stdout",
     "output_type": "stream",
     "text": [
      "hello-world\n"
     ]
    }
   ],
   "source": [
    "print(\"hello\",\"world\", sep=\"-\")"
   ]
  },
  {
   "cell_type": "code",
   "execution_count": 45,
   "id": "e8bce57f",
   "metadata": {},
   "outputs": [
    {
     "name": "stdout",
     "output_type": "stream",
     "text": [
      "hello-world hello-world hello-world hello-world hello-world hello-world hello-world hello-world hello-world hello-world "
     ]
    }
   ],
   "source": [
    "for i in range(10):\n",
    "    print(\"hello\",\"world\", sep=\"-\" ,end=\" \")"
   ]
  },
  {
   "cell_type": "code",
   "execution_count": null,
   "id": "2417f5ba",
   "metadata": {},
   "outputs": [],
   "source": [
    "impro\n",
    "grade=[23,45,34,23,33]\n"
   ]
  }
 ],
 "metadata": {
  "kernelspec": {
   "display_name": "Python 3 (ipykernel)",
   "language": "python",
   "name": "python3"
  },
  "language_info": {
   "codemirror_mode": {
    "name": "ipython",
    "version": 3
   },
   "file_extension": ".py",
   "mimetype": "text/x-python",
   "name": "python",
   "nbconvert_exporter": "python",
   "pygments_lexer": "ipython3",
   "version": "3.9.7"
  }
 },
 "nbformat": 4,
 "nbformat_minor": 5
}
