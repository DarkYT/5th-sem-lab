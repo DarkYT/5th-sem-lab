{
 "cells": [
  {
   "cell_type": "code",
   "execution_count": 16,
   "id": "e82a7761",
   "metadata": {},
   "outputs": [
    {
     "name": "stdout",
     "output_type": "stream",
     "text": [
      "100161 100194 100060 99808 99777 100000\n"
     ]
    }
   ],
   "source": [
    "import random;\n",
    "def rand():\n",
    "    a=b=c=d=e=f=0\n",
    "    for i in range (1,600001):\n",
    "        r=random.randint(1,6)\n",
    "        if r==1:\n",
    "            a+=1\n",
    "        if r==2:\n",
    "            b+=1\n",
    "        if r==3:\n",
    "            c+=1\n",
    "        if r==4:\n",
    "            d+=1\n",
    "        if r==5:\n",
    "            e+=1\n",
    "        if r==6:\n",
    "            f+=1\n",
    "            \n",
    "    print(a,b,c,d,e,f)\n",
    "rand()\n",
    "        "
   ]
  },
  {
   "cell_type": "code",
   "execution_count": 17,
   "id": "b130168e",
   "metadata": {},
   "outputs": [
    {
     "name": "stdout",
     "output_type": "stream",
     "text": [
      "2 2 0 1 2 3\n"
     ]
    }
   ],
   "source": [
    "import random;\n",
    "def rand():\n",
    "    a=b=c=d=e=f=0\n",
    "    for i in range (10):\n",
    "        r=random.randint(1,6)\n",
    "        if r==1:\n",
    "            a+=1\n",
    "        if r==2:\n",
    "            b+=1\n",
    "        if r==3:\n",
    "            c+=1\n",
    "        if r==4:\n",
    "            d+=1\n",
    "        if r==5:\n",
    "            e+=1\n",
    "        if r==6:\n",
    "            f+=1\n",
    "            \n",
    "    print(a,b,c,d,e,f)\n",
    "rand()\n",
    "        "
   ]
  }
 ],
 "metadata": {
  "kernelspec": {
   "display_name": "Python 3 (ipykernel)",
   "language": "python",
   "name": "python3"
  },
  "language_info": {
   "codemirror_mode": {
    "name": "ipython",
    "version": 3
   },
   "file_extension": ".py",
   "mimetype": "text/x-python",
   "name": "python",
   "nbconvert_exporter": "python",
   "pygments_lexer": "ipython3",
   "version": "3.9.7"
  }
 },
 "nbformat": 4,
 "nbformat_minor": 5
}
