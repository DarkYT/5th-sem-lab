{
 "cells": [
  {
   "cell_type": "code",
   "execution_count": 1,
   "id": "e63fce00",
   "metadata": {},
   "outputs": [
    {
     "name": "stdout",
     "output_type": "stream",
     "text": [
      "enter your answeryes\n",
      "carry an umbrella\n"
     ]
    }
   ],
   "source": [
    "# Write a program such that Python will ask you if it is raining or not. If your answer is ”yes”, Python\n",
    "# will say ”Carry an umbrella”. If you type anything else, Python will say ”Bye”.\n",
    "\n",
    "user= input(\"enter your answer\")\n",
    "if user==\"yes\":\n",
    "    print(\"carry an umbrella\")\n",
    "else:\n",
    "    print(\"bye\")"
   ]
  },
  {
   "cell_type": "code",
   "execution_count": 3,
   "id": "16a0511e",
   "metadata": {},
   "outputs": [
    {
     "name": "stdout",
     "output_type": "stream",
     "text": [
      "enter your answerno\n",
      "no need to carry an umbrella\n"
     ]
    }
   ],
   "source": [
    "# Write a program such that Python will ask you if it is raining or not. If your answer is ”yes”, Python\n",
    "# will say ”Carry an umbrella”. If you say ”no”, Python will say ”No need to carry an umbrella”. If\n",
    "# you type anything else, Python will say ”Bye”.\n",
    "user= input(\"enter your answer\")\n",
    "if user==\"yes\":\n",
    "    print(\"carry an umbrella\")\n",
    "elif user==\"no\":\n",
    "    print(\"no need to carry an umbrella\")\n",
    "else:\n",
    "    print(\"bye\")"
   ]
  },
  {
   "cell_type": "code",
   "execution_count": 7,
   "id": "4ef5454c",
   "metadata": {},
   "outputs": [
    {
     "name": "stdout",
     "output_type": "stream",
     "text": [
      "enter your grade 34\n",
      "F\n",
      "Failing\n"
     ]
    }
   ],
   "source": [
    "# Write a Python program to calculate a student’s letter grade based on their numeric score using the following scale: A (90–100), B (80–89), C (70–79), D (60–69), and F (below 60). Additionally, provide\n",
    "# a comment for each grade: ”Excellent” for A, ”Good” for B, ”Average” for C, ”Needs Improvement”\n",
    "# for D, and ”Failing” for F.\n",
    "\n",
    "grade = int(input(\"enter your grade \"))\n",
    "if grade>=90:\n",
    "    print(\"A\")\n",
    "    print(\"Excellent\")\n",
    "elif grade>=80:\n",
    "    print(\"B\")\n",
    "    print(\"Good\")\n",
    "elif grade>=70:\n",
    "    print(\"C\")\n",
    "    print(\"Average\")\n",
    "elif grade>=60:\n",
    "    print(\"D\")\n",
    "    print(\"Need to improve\")\n",
    "elif grade<60:\n",
    "    print(\"F\")\n",
    "    print(\"Failing\")"
   ]
  },
  {
   "cell_type": "code",
   "execution_count": 9,
   "id": "a40a439b",
   "metadata": {},
   "outputs": [
    {
     "name": "stdout",
     "output_type": "stream",
     "text": [
      "side a: 2 \n",
      "side b: 2\n",
      "side c: 4\n",
      "Isosceles triangle\n"
     ]
    }
   ],
   "source": [
    "# Write a program that reads the lengths of the three sides of a triangle from the user. Then display a\n",
    "# message that states the triangles type.\n",
    "a=int(input(\"side a: \"))\n",
    "b=int(input(\"side b: \"))\n",
    "c=int(input(\"side c: \"))\n",
    "if a==b==c:\n",
    "    print(\"equilateral triangle\")\n",
    "elif a==b!=c or a==c!=b or b==c!=a:\n",
    "    print(\"Isosceles triangle\")\n",
    "else :\n",
    "    print(\"scalene triangle\")"
   ]
  },
  {
   "cell_type": "code",
   "execution_count": 11,
   "id": "fe755789",
   "metadata": {},
   "outputs": [
    {
     "name": "stdout",
     "output_type": "stream",
     "text": [
      "enter the num :5\n",
      "odd\n"
     ]
    }
   ],
   "source": [
    "# Write a program that takes an integer input from the user and tells the user whether the number is\n",
    "# even or odd.\n",
    "num = int(input(\"enter the num :\"))\n",
    "if num%2==0:\n",
    "    print(\"even\")\n",
    "else:\n",
    "    print(\"odd\")"
   ]
  },
  {
   "cell_type": "code",
   "execution_count": 13,
   "id": "749b2617",
   "metadata": {},
   "outputs": [
    {
     "name": "stdout",
     "output_type": "stream",
     "text": [
      "entr the year :2005\n",
      "2005 is not a leap year\n"
     ]
    }
   ],
   "source": [
    "# Write a program that takes a year as input and determines whether it is a leap year or not.\n",
    "year = int(input(\"entr the year :\"))\n",
    "if year%4==0:\n",
    "    print(f\"{year} is a leap year\")\n",
    "else:\n",
    "    print(f\"{year} is not a leap year\")"
   ]
  },
  {
   "cell_type": "code",
   "execution_count": 2,
   "id": "58fc9bfa",
   "metadata": {},
   "outputs": [
    {
     "name": "stdout",
     "output_type": "stream",
     "text": [
      "enter you num :4\n"
     ]
    }
   ],
   "source": [
    "# . Write a program that takes an integer input from the user and prints whether it is prime or not.\n",
    "num = int (input(\"enter you num :\"))\n",
    "flag = True\n",
    "for i in range(2,num):\n",
    "    if num%2!=0 and True:\n",
    "        print(\"prime\")\n",
    "        break;"
   ]
  },
  {
   "cell_type": "code",
   "execution_count": 3,
   "id": "9e31bb6f",
   "metadata": {},
   "outputs": [
    {
     "name": "stdout",
     "output_type": "stream",
     "text": [
      "2736\n"
     ]
    }
   ],
   "source": [
    "# In line with the previous question, write a program to compute the sum of all prime numbers below a\n",
    "# user input number, e.g., Sum of all prime numbers less than 20 is 77.\n",
    "sum=0\n",
    "for i in range(20,77):\n",
    "    for j in range(2,i):\n",
    "          if num%2!=0 and True:\n",
    "                break;\n",
    "    sum+=i\n",
    "print(sum)"
   ]
  },
  {
   "cell_type": "code",
   "execution_count": 5,
   "id": "7d7369a8",
   "metadata": {},
   "outputs": [
    {
     "name": "stdout",
     "output_type": "stream",
     "text": [
      "entr you number :-3\n",
      "enter you number-4\n",
      "enter you number-5\n",
      "enter you number-3\n",
      "enter you number2\n",
      "4\n"
     ]
    }
   ],
   "source": [
    "# Write a program that takes an integer input from the user. Use a while loop to continuously prompt\n",
    "# for input until the user enters a positive number. If the final number is even, multiply it by 2 and if it\n",
    "# is odd, square it. Display the results at the end.\n",
    "num =int (input(\"entr you number :\"))\n",
    "while(num<0):\n",
    "    num =int(input(\"enter you number\"))\n",
    "if num%2==0:\n",
    "    num*=2\n",
    "else:\n",
    "    num**=2\n",
    "print(num)"
   ]
  },
  {
   "cell_type": "code",
   "execution_count": 5,
   "id": "1d125855",
   "metadata": {},
   "outputs": [
    {
     "ename": "SyntaxError",
     "evalue": "invalid syntax (249877376.py, line 17)",
     "output_type": "error",
     "traceback": [
      "\u001b[0;36m  File \u001b[0;32m\"/tmp/ipykernel_3240/249877376.py\"\u001b[0;36m, line \u001b[0;32m17\u001b[0m\n\u001b[0;31m    match rem:\u001b[0m\n\u001b[0m          ^\u001b[0m\n\u001b[0;31mSyntaxError\u001b[0m\u001b[0;31m:\u001b[0m invalid syntax\n"
     ]
    }
   ],
   "source": [
    "# Write a program to find the remainder when a user input number is divided by 5 using match case. If\n",
    "# the user inputs a non-integer, Python should say ”Invalid input” and stop\n",
    "num = input(\"enter the num\")\n",
    "\n",
    "\n",
    "while True:\n",
    "    valid=True\n",
    "    for i in num:\n",
    "        if not('0'<=i<='9'):\n",
    "            valid=False\n",
    "            break;\n",
    "        if not valid:\n",
    "            print(\"invalid\")\n",
    "            continue\n",
    "        num = int(num)\n",
    "        rem=num%5\n",
    "        match rem:\n",
    "            case 0:\n",
    "                 print(\"The remainder is 0\")\n",
    "            case 1:\n",
    "                 print(\"The remainder is 1\")\n",
    "            case 2:\n",
    "                print(\"The remainder is 2\")\n",
    "            case 3:\n",
    "                print(\"The remainder is 3\")\n",
    "            case 4:\n",
    "                print(\"The remainder is 4\")\n",
    "            case _:\n",
    "                print(\"Invalid input\")\n",
    "                break"
   ]
  },
  {
   "cell_type": "code",
   "execution_count": 33,
   "id": "b51fa7ae",
   "metadata": {},
   "outputs": [
    {
     "name": "stdout",
     "output_type": "stream",
     "text": [
      "3\n",
      " a ab abc   b bc    c "
     ]
    }
   ],
   "source": [
    "# Write a program that takes a string as input and prints out all possible sub strings of the string using\n",
    "# loops, e.g., if the input is ”abc”, the output should be ”a”, ”ab”, ”abc”, ”b”, ”bc”, ”c”.\n",
    "word= \"abc\"#input(\"enter the string : \")\n",
    "# length =len(word)\n",
    "print(length)\n",
    "for i in range(0,length):\n",
    "    j=0\n",
    "    while j<4:\n",
    "        print(word[i:j], end=\" \")\n",
    "        j+=1\n",
    "    "
   ]
  },
  {
   "cell_type": "code",
   "execution_count": 7,
   "id": "a2dbde85",
   "metadata": {},
   "outputs": [
    {
     "ename": "SyntaxError",
     "evalue": "invalid syntax (1763275192.py, line 13)",
     "output_type": "error",
     "traceback": [
      "\u001b[0;36m  File \u001b[0;32m\"/tmp/ipykernel_3240/1763275192.py\"\u001b[0;36m, line \u001b[0;32m13\u001b[0m\n\u001b[0;31m    match op:\u001b[0m\n\u001b[0m          ^\u001b[0m\n\u001b[0;31mSyntaxError\u001b[0m\u001b[0;31m:\u001b[0m invalid syntax\n"
     ]
    }
   ],
   "source": [
    "# 11. Write a program that functions as a simple calculator. It should continuously accept a pair of numbers\n",
    "# and an operator (+, -, *, /) from the user and print the result. If the user types ”exit”, the program\n",
    "# quits. Otherwise the program continues asking for a pair of input numbers.\n",
    "value=True\n",
    "while value:\n",
    "  value =True\n",
    "  a= int (input(\"enter the a :\"))\n",
    "  b= int(input(\"enter the b :\"))\n",
    "  op= input(\"enter the operation you want to perform :\")\n",
    "  if op==\"exit\":\n",
    "    value =False\n",
    "  else:\n",
    "    match op:\n",
    "            case '+':\n",
    "                 print(f\"{a}+{b}={a+b}\")\n",
    "            case '-':\n",
    "                 print(f\"{a}-{b}={a-b}\")\n",
    "            case '*':\n",
    "                print(f\"{a}*{b}={a*b}\")\n",
    "            case '%':\n",
    "                print(f\"{a}%{b}={a%b}\")\n",
    "            case '//':\n",
    "                print(f\"{a}//{b}={a//b}\")\n",
    "            case _:\n",
    "                print(\"Invalid input\")\n",
    "                break\n",
    "            "
   ]
  },
  {
   "cell_type": "code",
   "execution_count": 8,
   "id": "df074af8",
   "metadata": {},
   "outputs": [
    {
     "name": "stdout",
     "output_type": "stream",
     "text": [
      "Mean: 3.5833333333333335\n",
      "Median: 4.0\n",
      "Mode: 4\n"
     ]
    }
   ],
   "source": [
    "# 12. Write a program to find out the mean, median, and mode of 1, 2, 3, 2, 3, 4, 4, 4, 5, 4, 5, 6.\n",
    "import statistics\n",
    "\n",
    "arr = [1, 2, 3, 2, 3, 4, 4, 4, 5, 4, 5, 6]\n",
    "\n",
    "mean = statistics.mean(arr)\n",
    "print(\"Mean:\", mean)\n",
    "\n",
    "median = statistics.median(arr)\n",
    "print(\"Median:\", median)\n",
    "\n",
    "mode = statistics.mode(arr)\n",
    "print(\"Mode:\", mode)"
   ]
  },
  {
   "cell_type": "code",
   "execution_count": 14,
   "id": "9ee23d7b",
   "metadata": {},
   "outputs": [
    {
     "name": "stdout",
     "output_type": "stream",
     "text": [
      "enter the position :d4\n",
      "black\n"
     ]
    }
   ],
   "source": [
    "# 13. Positions on a chess board are identified by a letter and a number. The letter identifies the column,\n",
    "# while the number identifies the row, as shown below:\n",
    "# Write a program that reads a position from the user and identify the proper color of the respective\n",
    "# box\n",
    "st=(input(\"enter the position :\"))\n",
    "sum=ord(st[0])+ord(st[1])\n",
    "if sum%2==0:\n",
    "    print(\"black\")\n",
    "else:\n",
    "    print(\"white\")"
   ]
  },
  {
   "cell_type": "code",
   "execution_count": 15,
   "id": "708c1f2b",
   "metadata": {},
   "outputs": [
    {
     "name": "stdout",
     "output_type": "stream",
     "text": [
      "enter your room typesu\n",
      "entr the season num :6\n",
      "Are you a loyalty member y/ny\n",
      "your tota cost for the selectde package is : 256.06201550387595\n"
     ]
    }
   ],
   "source": [
    "# Write a Python program that calculates the final cost of a hotel booking based on the room type\n",
    "# (Standard: $100/night, Deluxe: $150/night, Suite: $250/night), the length of stay (10% discount for\n",
    "# >3 nights, 20% discount for >7 nights), the season (20% increase during peak season, 15% decrease\n",
    "# during the off-season), and whether the customer is a loyalty member (5% additional discount). The\n",
    "# program should output the final booking cost after applying all relevant discounts and adjustments.\n",
    "room= input(\"enter your room type\")\n",
    "if room==\"s\"or room==\"S\":\n",
    "    price = 100\n",
    "elif room==\"d\"or room==\"D\":\n",
    "     price = 150\n",
    "elif room==\"su\"or room==\"Su\":\n",
    "     price = 250\n",
    "season=int(input(\"entr the season num :\"))\n",
    "if season>=6:\n",
    "    intrest= (20/250)*100\n",
    "    price+=intrest\n",
    "else:\n",
    "    intrest= (15/250)*100\n",
    "    price-=intrest\n",
    "loyalty =input(\"Are you a loyalty member y/n\")\n",
    "if loyalty==\"y\":\n",
    "    intrest=(5/price)*100\n",
    "    price-=intrest\n",
    "print(\"your tota cost for the selectde package is :\",price)"
   ]
  },
  {
   "cell_type": "code",
   "execution_count": 18,
   "id": "c90b94c2",
   "metadata": {},
   "outputs": [
    {
     "name": "stdout",
     "output_type": "stream",
     "text": [
      "enter the num :4\n",
      "not perfect\n"
     ]
    }
   ],
   "source": [
    "# 15. Write a program to determine whether a given natural number is a perfect number. A natural number\n",
    "# is said to be a perfect number if it is the sum of its divisors. For Example, 6 is a perfect number\n",
    "# because 6 = 1+2+3, but 15 is not a perfect number because 15!= 1+3+5.\n",
    "num =int(input(\"enter the num :\"))\n",
    "sum=0\n",
    "for i in range(1,num):\n",
    "    if num%i==0:\n",
    "        sum+=i\n",
    "if sum==num:\n",
    "    print(f\"{sum} is a perfect num .\")\n",
    "else:\n",
    "    print(\"not perfect\")"
   ]
  },
  {
   "cell_type": "code",
   "execution_count": 28,
   "id": "14f22e9b",
   "metadata": {},
   "outputs": [
    {
     "ename": "SyntaxError",
     "evalue": "invalid syntax (2078423636.py, line 13)",
     "output_type": "error",
     "traceback": [
      "\u001b[0;36m  File \u001b[0;32m\"/tmp/ipykernel_3240/2078423636.py\"\u001b[0;36m, line \u001b[0;32m13\u001b[0m\n\u001b[0;31m    else:\u001b[0m\n\u001b[0m    ^\u001b[0m\n\u001b[0;31mSyntaxError\u001b[0m\u001b[0;31m:\u001b[0m invalid syntax\n"
     ]
    }
   ],
   "source": [
    "# 16. Write a program that finds the sum of the n terms of the following series:\n",
    "# a) 1 − x 2 /2! + x 4 /4! − x 6 /6! + . . . + x 2n /(2n)!\n",
    "# b) 1 + x/1! + x 2 /2! + x 3 /3! + . . . + x n /n!\n",
    "# c) 1-3+5-7+9-. . .\n",
    "import math \n",
    "x= int(input(\"enter x\"))\n",
    "n= int (input(\"enter n\"))\n",
    "fac=1\n",
    "a=0\n",
    "for i in range(2 ,n+1,2):\n",
    "    if i%2==0:\n",
    "        a=a+((x)**(2*1)//factorian(i)\n",
    "    else:        \n",
    "        a=a-((x)**(2*1)//(2*fac)     \n",
    "a=1-a\n",
    "print(a)"
   ]
  },
  {
   "cell_type": "code",
   "execution_count": 21,
   "id": "42c1dc11",
   "metadata": {},
   "outputs": [
    {
     "data": {
      "text/plain": [
       "1"
      ]
     },
     "execution_count": 21,
     "metadata": {},
     "output_type": "execute_result"
    }
   ],
   "source": [
    "9//6"
   ]
  },
  {
   "cell_type": "code",
   "execution_count": 22,
   "id": "dd94f5c7",
   "metadata": {},
   "outputs": [
    {
     "data": {
      "text/plain": [
       "1"
      ]
     },
     "execution_count": 22,
     "metadata": {},
     "output_type": "execute_result"
    }
   ],
   "source": [
    "1%2"
   ]
  },
  {
   "cell_type": "code",
   "execution_count": null,
   "id": "d153c6ad",
   "metadata": {},
   "outputs": [],
   "source": []
  }
 ],
 "metadata": {
  "kernelspec": {
   "display_name": "Python 3 (ipykernel)",
   "language": "python",
   "name": "python3"
  },
  "language_info": {
   "codemirror_mode": {
    "name": "ipython",
    "version": 3
   },
   "file_extension": ".py",
   "mimetype": "text/x-python",
   "name": "python",
   "nbconvert_exporter": "python",
   "pygments_lexer": "ipython3",
   "version": "3.9.7"
  }
 },
 "nbformat": 4,
 "nbformat_minor": 5
}
