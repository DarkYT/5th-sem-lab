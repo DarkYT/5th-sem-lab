{
 "cells": [
  {
   "cell_type": "code",
   "execution_count": 20,
   "id": "c7fd9530",
   "metadata": {},
   "outputs": [
    {
     "name": "stdout",
     "output_type": "stream",
     "text": [
      "2368\n"
     ]
    },
    {
     "data": {
      "text/plain": [
       "(8, 6, 3)"
      ]
     },
     "execution_count": 20,
     "metadata": {},
     "output_type": "execute_result"
    }
   ],
   "source": [
    "# 1. Write a Python function to find the first, second and third greatest digit in a number.\n",
    "# Sample Number: 6328\n",
    "# Expected Output: 8, 6, 3\n",
    "\n",
    "def greatest():\n",
    "        n = input()\n",
    "        first=second=third=0\n",
    "        for i in n:\n",
    "            i=int(i)\n",
    "            if  i >= first:\n",
    "                first = i\n",
    "        for i in n:\n",
    "            i=int(i)\n",
    "            if  i >= second and i<first:\n",
    "                second = i\n",
    "        for i in n:\n",
    "            i=int(i)\n",
    "            if  i >= third and i<second:\n",
    "                third  = i\n",
    "        return first, second ,third\n",
    "    \n",
    "greatest()\n",
    "        "
   ]
  },
  {
   "cell_type": "code",
   "execution_count": 25,
   "id": "eaee5998",
   "metadata": {},
   "outputs": [
    {
     "name": "stdout",
     "output_type": "stream",
     "text": [
      "105 120 135 150 165 180 195 210 225 240 255 270 285 300 315 330 345 360 375 390 405 420 435 450 465 480 495 "
     ]
    }
   ],
   "source": [
    "# 2. Find the numbers between 100 and 500, which are divisible by 3 and multiples of 5 using function in\n",
    "# Python\n",
    "def find():\n",
    "    for i in range(100,501):\n",
    "        if(i%3==0 and i%5==0):\n",
    "            print(i ,end=\" \")\n",
    "find()"
   ]
  },
  {
   "cell_type": "code",
   "execution_count": 27,
   "id": "25eaaa35",
   "metadata": {},
   "outputs": [
    {
     "data": {
      "text/plain": [
       "34220"
      ]
     },
     "execution_count": 27,
     "metadata": {},
     "output_type": "execute_result"
    }
   ],
   "source": [
    "# 3. Write a Python function to add the squares of the even numbers between 1 and 50 (both included).\n",
    "import math\n",
    "def add():\n",
    "    sum =0\n",
    "    for i in range (1,60):\n",
    "         if i%2==0:\n",
    "            sum+=pow(i,2)\n",
    "    return sum\n",
    "add()"
   ]
  },
  {
   "cell_type": "code",
   "execution_count": 5,
   "id": "0e37f90e",
   "metadata": {},
   "outputs": [
    {
     "name": "stdout",
     "output_type": "stream",
     "text": [
      "enter string hello\n",
      "olleh\n"
     ]
    }
   ],
   "source": [
    "# 4. Write a function that takes a string as input and returns the reversed string.\n",
    "n=input(\"enter string \")\n",
    "def rev(n):\n",
    "    l=len(n)\n",
    "    st=\"\"\n",
    "    for i in range(0,l):\n",
    "          st+=n[l-1]\n",
    "#         print(n[l-1], end =\"\")\n",
    "          l-=1\n",
    "    return st\n",
    "\n",
    "print(rev(n))"
   ]
  },
  {
   "cell_type": "code",
   "execution_count": 3,
   "id": "6cc9a704",
   "metadata": {},
   "outputs": [
    {
     "name": "stdout",
     "output_type": "stream",
     "text": [
      "enter num :34\n",
      "2\n"
     ]
    }
   ],
   "source": [
    "# 5. Write a function that takes a positive integer and returns the number of digits.\n",
    "n=input(\"enter num :\")\n",
    "def digit(n):\n",
    "      if int (n)>=0:\n",
    "        count =0\n",
    "        for i in n:\n",
    "            count+=1\n",
    "        return count  \n",
    "      else:\n",
    "             return -1\n",
    "print(digit(n))"
   ]
  },
  {
   "cell_type": "code",
   "execution_count": 2,
   "id": "3694902e",
   "metadata": {},
   "outputs": [
    {
     "name": "stdout",
     "output_type": "stream",
     "text": [
      "enter string hello\n",
      " Not palindrom\n"
     ]
    }
   ],
   "source": [
    "# 6. Define a function to check if a given string is a palindrome. Example: madam ⟲ madam, racecar ⟲\n",
    "# racecar\n",
    "\n",
    "n=input(\"enter string \")\n",
    "def rev(n):\n",
    "    l=len(n)\n",
    "    st=\"\"\n",
    "    for i in range(0,l):\n",
    "          st+=n[l-1]\n",
    "#         print(n[l-1], end =\"\")\n",
    "          l-=1\n",
    "    return st\n",
    "def palindrom():\n",
    "    if n == rev(n):\n",
    "        print(\"palindrom\")\n",
    "    else :\n",
    "        print(\" Not palindrom\")\n",
    "palindrom()"
   ]
  },
  {
   "cell_type": "code",
   "execution_count": null,
   "id": "288cb633",
   "metadata": {},
   "outputs": [],
   "source": [
    "#7  Write a Python function to check whether an alphabet is a vowel or consonant.\n",
    "c=input(\"enter the char : \")\n",
    "def isvowel(c):\n",
    "    vow=['a','e','i','o','u','A','E','I','O','U']\n",
    "    if c in vow:\n",
    "         return True\n",
    "    else:\n",
    "        return False\n",
    "print(isvowel(c))"
   ]
  },
  {
   "cell_type": "code",
   "execution_count": 5,
   "id": "a9198741",
   "metadata": {},
   "outputs": [
    {
     "name": "stdout",
     "output_type": "stream",
     "text": [
      "Enter the month :july\n",
      "jul\n",
      "{31}\n"
     ]
    }
   ],
   "source": [
    "# 8. Write a Python program that takes the name of a month as input and returns the number of days in\n",
    "# that month.\n",
    "# Input: The name of the Month: February\n",
    "# Output: No. of days: 28/29 days\n",
    "\n",
    "m=input(\"Enter the month :\")\n",
    "month=m.lower()\n",
    "month=month[0:3]\n",
    "print(month)\n",
    "def days(month):\n",
    "    mn={\"jan\":31,\n",
    "        \"feb\":28,\n",
    "        \"mar\":31,\n",
    "        \"apr\":30,\n",
    "        \"may\":31,\n",
    "        \"jun\":30,\n",
    "        \"jul\":31\n",
    "        }\n",
    "    if month in mn:\n",
    "        print({mn[month]})\n",
    "    else:\n",
    "        print (\"not present\")\n",
    "days(month)\n",
    "    "
   ]
  },
  {
   "cell_type": "code",
   "execution_count": null,
   "id": "dc4f5195",
   "metadata": {},
   "outputs": [],
   "source": []
  }
 ],
 "metadata": {
  "kernelspec": {
   "display_name": "Python 3 (ipykernel)",
   "language": "python",
   "name": "python3"
  },
  "language_info": {
   "codemirror_mode": {
    "name": "ipython",
    "version": 3
   },
   "file_extension": ".py",
   "mimetype": "text/x-python",
   "name": "python",
   "nbconvert_exporter": "python",
   "pygments_lexer": "ipython3",
   "version": "3.9.7"
  }
 },
 "nbformat": 4,
 "nbformat_minor": 5
}
