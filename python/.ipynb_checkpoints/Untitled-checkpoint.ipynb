{
 "cells": [
  {
   "cell_type": "code",
   "execution_count": 1,
   "id": "8b463fef",
   "metadata": {},
   "outputs": [
    {
     "data": {
      "text/plain": [
       "'hello'"
      ]
     },
     "execution_count": 1,
     "metadata": {},
     "output_type": "execute_result"
    }
   ],
   "source": [
    "\"\"\"hello\"\"\""
   ]
  },
  {
   "cell_type": "code",
   "execution_count": 2,
   "id": "c15b4049",
   "metadata": {},
   "outputs": [
    {
     "data": {
      "text/plain": [
       "'hello \\n   ho are you '"
      ]
     },
     "execution_count": 2,
     "metadata": {},
     "output_type": "execute_result"
    }
   ],
   "source": [
    "\"\"\"hello \n",
    "   ho are you \"\"\""
   ]
  },
  {
   "cell_type": "code",
   "execution_count": 3,
   "id": "2843b109",
   "metadata": {},
   "outputs": [],
   "source": [
    "#hello\n"
   ]
  },
  {
   "cell_type": "code",
   "execution_count": 4,
   "id": "a27d8ee0",
   "metadata": {},
   "outputs": [
    {
     "name": "stdout",
     "output_type": "stream",
     "text": [
      "234\n",
      "234\n"
     ]
    }
   ],
   "source": [
    "var1= int(input())\n",
    "print(var1)"
   ]
  },
  {
   "cell_type": "markdown",
   "id": "a0df55b1",
   "metadata": {},
   "source": [
    "234/23\n"
   ]
  },
  {
   "cell_type": "code",
   "execution_count": 5,
   "id": "8c993cb4",
   "metadata": {},
   "outputs": [
    {
     "data": {
      "text/plain": [
       "6"
      ]
     },
     "execution_count": 5,
     "metadata": {},
     "output_type": "execute_result"
    }
   ],
   "source": [
    "234//34"
   ]
  },
  {
   "cell_type": "code",
   "execution_count": 6,
   "id": "5cea846b",
   "metadata": {},
   "outputs": [
    {
     "data": {
      "text/plain": [
       "141.47826086956522"
      ]
     },
     "execution_count": 6,
     "metadata": {},
     "output_type": "execute_result"
    }
   ],
   "source": [
    "3254/23\n"
   ]
  },
  {
   "cell_type": "code",
   "execution_count": 7,
   "id": "5b275af1",
   "metadata": {},
   "outputs": [
    {
     "name": "stdout",
     "output_type": "stream",
     "text": [
      "enter a :23\n",
      "30\n"
     ]
    }
   ],
   "source": [
    "a=int (input(\"enter a :\"))\n",
    "a=20\n",
    "b=10\n",
    "print(a+b)"
   ]
  },
  {
   "cell_type": "code",
   "execution_count": 9,
   "id": "4cca565e",
   "metadata": {},
   "outputs": [
    {
     "name": "stdout",
     "output_type": "stream",
     "text": [
      "nana nana nana nana nana nana nana nana  batman\n"
     ]
    }
   ],
   "source": [
    "a=\"nana \"\n",
    "b=8\n",
    "c=a*b\n",
    "print (c,\"batman\")"
   ]
  },
  {
   "cell_type": "code",
   "execution_count": 11,
   "id": "4721f537",
   "metadata": {},
   "outputs": [
    {
     "name": "stdout",
     "output_type": "stream",
     "text": [
      "hi! We are studing \"python\".\\n I hope you all are doing well\n"
     ]
    }
   ],
   "source": [
    "print(\"hi! We are studing \\\"python\\\".\\\\n I hope you all are doing well\")"
   ]
  },
  {
   "cell_type": "code",
   "execution_count": 16,
   "id": "6dc69657",
   "metadata": {},
   "outputs": [
    {
     "name": "stdout",
     "output_type": "stream",
     "text": [
      "name = spandan patel\n",
      "address = Odisha , sundergarh , hemgir\n"
     ]
    }
   ],
   "source": [
    "print(\"name = spandan patel\")\n",
    "print (\"address = Odisha , sundergarh , hemgir\")"
   ]
  },
  {
   "cell_type": "code",
   "execution_count": 17,
   "id": "44a09ebb",
   "metadata": {},
   "outputs": [
    {
     "name": "stdout",
     "output_type": "stream",
     "text": [
      "26\n"
     ]
    }
   ],
   "source": [
    " x=2\n",
    " p= (x**3)+2*(x**2)+3*x+4\n",
    "print(p)"
   ]
  },
  {
   "cell_type": "code",
   "execution_count": 21,
   "id": "d7380ac4",
   "metadata": {},
   "outputs": [
    {
     "name": "stdout",
     "output_type": "stream",
     "text": [
      "entert radius :1\n",
      "area =  3.141592653589793 \n",
      "voluem is= 4.1887902047863905\n"
     ]
    }
   ],
   "source": [
    "import math\n",
    "r= int (input(\"entert radius :\"))\n",
    "area =math.pi*(r**2)\n",
    "volume = (4/3)*math.pi*(r**3)\n",
    "print (\"area = \",area,\"\\nvoluem is=\",volume)"
   ]
  },
  {
   "cell_type": "code",
   "execution_count": 22,
   "id": "d5322f08",
   "metadata": {},
   "outputs": [
    {
     "name": "stdout",
     "output_type": "stream",
     "text": [
      "entert a num:10\n",
      "55.0\n"
     ]
    }
   ],
   "source": [
    "n=int(input(\"entert a num:\"))\n",
    "sum=(n*(n+1))/2\n",
    "print(sum)"
   ]
  },
  {
   "cell_type": "code",
   "execution_count": 27,
   "id": "8c700368",
   "metadata": {},
   "outputs": [
    {
     "data": {
      "text/plain": [
       "True"
      ]
     },
     "execution_count": 27,
     "metadata": {},
     "output_type": "execute_result"
    }
   ],
   "source": [
    "a=10; b=5;c=0\n",
    "(a>b)or(not((c==b))and(c<a))"
   ]
  },
  {
   "cell_type": "code",
   "execution_count": 31,
   "id": "004e51c8",
   "metadata": {},
   "outputs": [
    {
     "name": "stdout",
     "output_type": "stream",
     "text": [
      "enter the num of year30\n",
      "2619995643649944960380551432833049000\n"
     ]
    }
   ],
   "source": [
    "p=1000\n",
    "r=12\n",
    "n=int(input(\"enter the num of year\"))\n",
    "a=p*((1+r)**n)\n",
    "print(a)\n"
   ]
  },
  {
   "cell_type": "code",
   "execution_count": 32,
   "id": "6cb4bace",
   "metadata": {},
   "outputs": [
    {
     "name": "stdout",
     "output_type": "stream",
     "text": [
      "ok\n"
     ]
    }
   ],
   "source": [
    "import math\n",
    "if((math.e**math.pi)>(math.pi**math.e)):\n",
    "  print(\"ok\")\n",
    "else:\n",
    "    print(\"ok anyway\")"
   ]
  },
  {
   "cell_type": "code",
   "execution_count": 33,
   "id": "974b4067",
   "metadata": {},
   "outputs": [
    {
     "data": {
      "text/plain": [
       "-85.0"
      ]
     },
     "execution_count": 33,
     "metadata": {},
     "output_type": "execute_result"
    }
   ],
   "source": [
    "-7*20+8/16*2+54\n"
   ]
  },
  {
   "cell_type": "code",
   "execution_count": 34,
   "id": "3fbf6aad",
   "metadata": {},
   "outputs": [
    {
     "data": {
      "text/plain": [
       "2"
      ]
     },
     "execution_count": 34,
     "metadata": {},
     "output_type": "execute_result"
    }
   ],
   "source": [
    "7**2//9%3\n"
   ]
  },
  {
   "cell_type": "code",
   "execution_count": 35,
   "id": "b51f8d38",
   "metadata": {},
   "outputs": [
    {
     "data": {
      "text/plain": [
       "5"
      ]
     },
     "execution_count": 35,
     "metadata": {},
     "output_type": "execute_result"
    }
   ],
   "source": [
    "49//9\n"
   ]
  },
  {
   "cell_type": "code",
   "execution_count": 36,
   "id": "df3ceb16",
   "metadata": {},
   "outputs": [
    {
     "data": {
      "text/plain": [
       "-50"
      ]
     },
     "execution_count": 36,
     "metadata": {},
     "output_type": "execute_result"
    }
   ],
   "source": [
    "(7-4*2)*10-25*8//5\n"
   ]
  },
  {
   "cell_type": "code",
   "execution_count": 37,
   "id": "4f2c9f84",
   "metadata": {},
   "outputs": [
    {
     "data": {
      "text/plain": [
       "40"
      ]
     },
     "execution_count": 37,
     "metadata": {},
     "output_type": "execute_result"
    }
   ],
   "source": [
    "25*8//5\n"
   ]
  },
  {
   "cell_type": "code",
   "execution_count": 43,
   "id": "b066bcf7",
   "metadata": {},
   "outputs": [
    {
     "data": {
      "text/plain": [
       "False"
      ]
     },
     "execution_count": 43,
     "metadata": {},
     "output_type": "execute_result"
    }
   ],
   "source": [
    "'hi'>'hello'and'bye'<'Bye'"
   ]
  },
  {
   "cell_type": "code",
   "execution_count": 44,
   "id": "8329d170",
   "metadata": {},
   "outputs": [
    {
     "data": {
      "text/plain": [
       "False"
      ]
     },
     "execution_count": 44,
     "metadata": {},
     "output_type": "execute_result"
    }
   ],
   "source": [
    "7>8 or 5<6 and 'I am fine'>'I am not fine'"
   ]
  },
  {
   "cell_type": "code",
   "execution_count": 50,
   "id": "94847d5a",
   "metadata": {},
   "outputs": [
    {
     "name": "stdout",
     "output_type": "stream",
     "text": [
      "first num234\n",
      "second num2\n",
      "2.369215857410143\n"
     ]
    }
   ],
   "source": [
    "import math\n",
    "a=int(input(\"first num\"))\n",
    "b=int(input(\"second num\"))\n",
    "c=log10(a)\n",
    "print (c)"
   ]
  },
  {
   "cell_type": "code",
   "execution_count": 53,
   "id": "925c7377",
   "metadata": {},
   "outputs": [
    {
     "name": "stdout",
     "output_type": "stream",
     "text": [
      "enter the hight 2\n",
      "6.260990336999411\n"
     ]
    }
   ],
   "source": [
    "import math\n",
    "h=int(input(\"enter the hight \"))\n",
    "vi=0\n",
    "a=9.8\n",
    "d=h\n",
    "vf=math.sqrt((vi**2)+2*a*d)\n",
    "print (vf)"
   ]
  },
  {
   "cell_type": "code",
   "execution_count": 54,
   "id": "766f5ba5",
   "metadata": {},
   "outputs": [
    {
     "name": "stdout",
     "output_type": "stream",
     "text": [
      "enter temp in celc :37\n",
      "temp in far 98.60000000000001\n",
      "temp in kelvine 310.15\n"
     ]
    }
   ],
   "source": [
    "import math\n",
    "cel=int (input(\"enter temp in celc :\"))\n",
    "f=cel*(9/5)+32\n",
    "k= cel+273.15\n",
    "print(\"temp in far\",f)\n",
    "print(\"temp in kelvine\",k)"
   ]
  },
  {
   "cell_type": "markdown",
   "id": "ff069ed1",
   "metadata": {},
   "source": [
    "num = int (input(\"enter the num :\"))\n",
    "sum =0\n",
    "while(num!=0):\n",
    "    dig=num%10\n",
    "    sum+=dig\n",
    "    num/10\n",
    "print(sum)    "
   ]
  },
  {
   "cell_type": "markdown",
   "id": "9cc11eb2",
   "metadata": {},
   "source": [
    "2<4\n"
   ]
  },
  {
   "cell_type": "code",
   "execution_count": 1,
   "id": "90227655",
   "metadata": {},
   "outputs": [
    {
     "ename": "NameError",
     "evalue": "name 'e' is not defined",
     "output_type": "error",
     "traceback": [
      "\u001b[0;31m---------------------------------------------------------------------------\u001b[0m",
      "\u001b[0;31mNameError\u001b[0m                                 Traceback (most recent call last)",
      "\u001b[0;32m/tmp/ipykernel_4301/4007279472.py\u001b[0m in \u001b[0;36m<module>\u001b[0;34m\u001b[0m\n\u001b[0;32m----> 1\u001b[0;31m \u001b[0mprint\u001b[0m\u001b[0;34m(\u001b[0m\u001b[0me\u001b[0m\u001b[0;34m)\u001b[0m\u001b[0;34m\u001b[0m\u001b[0;34m\u001b[0m\u001b[0m\n\u001b[0m",
      "\u001b[0;31mNameError\u001b[0m: name 'e' is not defined"
     ]
    }
   ],
   "source": [
    "print(e)"
   ]
  },
  {
   "cell_type": "code",
   "execution_count": 24,
   "id": "a1afb7f3",
   "metadata": {},
   "outputs": [
    {
     "name": "stdout",
     "output_type": "stream",
     "text": [
      "141 + 0 + 0 + 0 = 141\n"
     ]
    }
   ],
   "source": [
    "a=3141\n",
    "b=c=d=e=0\n",
    "if(a>1000):\n",
    "    b=a%1000\n",
    "    a=a//1000\n",
    "if(a>1000):\n",
    "        c=a%100\n",
    "        a=a//100\n",
    "if(a>100):\n",
    "     d=a%10\n",
    "     a=a//10\n",
    "if(a>10):\n",
    "      e=a%10\n",
    "      a=a//10\n",
    "    \n",
    "print(b,\"+\",c,\"+\",d,\"+\",e ,\"=\",b+c+d+e)\n",
    "\n",
    "    "
   ]
  },
  {
   "cell_type": "code",
   "execution_count": 27,
   "id": "d626c168",
   "metadata": {},
   "outputs": [
    {
     "ename": "NameError",
     "evalue": "name 'maxi' is not defined",
     "output_type": "error",
     "traceback": [
      "\u001b[0;31m---------------------------------------------------------------------------\u001b[0m",
      "\u001b[0;31mNameError\u001b[0m                                 Traceback (most recent call last)",
      "\u001b[0;32m/tmp/ipykernel_4301/1303307006.py\u001b[0m in \u001b[0;36m<module>\u001b[0;34m\u001b[0m\n\u001b[1;32m      4\u001b[0m \u001b[0mc\u001b[0m\u001b[0;34m=\u001b[0m\u001b[0;36m5\u001b[0m\u001b[0;34m\u001b[0m\u001b[0;34m\u001b[0m\u001b[0m\n\u001b[1;32m      5\u001b[0m \u001b[0mmini\u001b[0m\u001b[0;34m=\u001b[0m\u001b[0mmin\u001b[0m\u001b[0;34m(\u001b[0m\u001b[0ma\u001b[0m\u001b[0;34m,\u001b[0m\u001b[0mb\u001b[0m\u001b[0;34m,\u001b[0m\u001b[0mc\u001b[0m\u001b[0;34m)\u001b[0m\u001b[0;34m\u001b[0m\u001b[0;34m\u001b[0m\u001b[0m\n\u001b[0;32m----> 6\u001b[0;31m \u001b[0mprint\u001b[0m\u001b[0;34m(\u001b[0m\u001b[0;34m\"max=\"\u001b[0m\u001b[0;34m,\u001b[0m\u001b[0mmaxi\u001b[0m\u001b[0;34m)\u001b[0m\u001b[0;34m\u001b[0m\u001b[0;34m\u001b[0m\u001b[0m\n\u001b[0m\u001b[1;32m      7\u001b[0m \u001b[0mmaxi\u001b[0m\u001b[0;34m=\u001b[0m\u001b[0mmax\u001b[0m\u001b[0;34m(\u001b[0m\u001b[0ma\u001b[0m\u001b[0;34m,\u001b[0m\u001b[0mb\u001b[0m\u001b[0;34m,\u001b[0m\u001b[0mc\u001b[0m\u001b[0;34m)\u001b[0m\u001b[0;34m\u001b[0m\u001b[0;34m\u001b[0m\u001b[0m\n\u001b[1;32m      8\u001b[0m \u001b[0mprint\u001b[0m\u001b[0;34m(\u001b[0m\u001b[0;34m\"min =\"\u001b[0m\u001b[0;34m,\u001b[0m\u001b[0mmini\u001b[0m\u001b[0;34m)\u001b[0m\u001b[0;34m\u001b[0m\u001b[0;34m\u001b[0m\u001b[0m\n",
      "\u001b[0;31mNameError\u001b[0m: name 'maxi' is not defined"
     ]
    }
   ],
   "source": [
    "import math\n",
    "a=3\n",
    "b=4\n",
    "c=5\n",
    "mini=min(a,b,c)\n",
    "print(\"max=\",maxi)\n",
    "maxi=max(a,b,c)\n",
    "print(\"min =\",mini)\n",
    "print(sort(a,b,c))"
   ]
  },
  {
   "cell_type": "code",
   "execution_count": null,
   "id": "6d1b1f36",
   "metadata": {},
   "outputs": [],
   "source": []
  }
 ],
 "metadata": {
  "kernelspec": {
   "display_name": "Python 3 (ipykernel)",
   "language": "python",
   "name": "python3"
  },
  "language_info": {
   "codemirror_mode": {
    "name": "ipython",
    "version": 3
   },
   "file_extension": ".py",
   "mimetype": "text/x-python",
   "name": "python",
   "nbconvert_exporter": "python",
   "pygments_lexer": "ipython3",
   "version": "3.9.7"
  }
 },
 "nbformat": 4,
 "nbformat_minor": 5
}
