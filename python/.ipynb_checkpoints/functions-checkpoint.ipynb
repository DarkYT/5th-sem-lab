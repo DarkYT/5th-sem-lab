{
 "cells": [
  {
   "cell_type": "code",
   "execution_count": 4,
   "id": "5ca6cc31",
   "metadata": {},
   "outputs": [
    {
     "name": "stdout",
     "output_type": "stream",
     "text": [
      "16\n",
      "25\n",
      "36\n"
     ]
    }
   ],
   "source": [
    "def squar(num):\n",
    "    return num**2\n",
    "print(squar(4))\n",
    "print(squar(5))\n",
    "print(squar(6))"
   ]
  },
  {
   "cell_type": "code",
   "execution_count": 5,
   "id": "c88c451f",
   "metadata": {},
   "outputs": [
    {
     "name": "stdout",
     "output_type": "stream",
     "text": [
      "10\n"
     ]
    }
   ],
   "source": [
    "def sum(num1, num2,num3):\n",
    "    return num1+num2+num3\n",
    "print(sum(2,3,5))"
   ]
  },
  {
   "cell_type": "code",
   "execution_count": 7,
   "id": "a9ee4f5c",
   "metadata": {},
   "outputs": [
    {
     "name": "stdout",
     "output_type": "stream",
     "text": [
      "5\n",
      "4.3\n"
     ]
    }
   ],
   "source": [
    "def max(a,b,c):\n",
    "    if a>b and b>c:\n",
    "        return a\n",
    "    if b>c and c>a:\n",
    "        return b\n",
    "    else:\n",
    "        return c\n",
    "print(max(3,4,5))\n",
    "print(max(3.3,4.3,3.7))"
   ]
  },
  {
   "cell_type": "code",
   "execution_count": 11,
   "id": "2e295caf",
   "metadata": {},
   "outputs": [
    {
     "name": "stdout",
     "output_type": "stream",
     "text": [
      "enter num: 345324\n",
      "6\n"
     ]
    }
   ],
   "source": [
    "def count(a):\n",
    "    c=0\n",
    "    while (a!=0):\n",
    "            dig=a%10\n",
    "            c+=1;\n",
    "            a=a//10\n",
    "    return c\n",
    "a=int(input(\"enter num: \"))\n",
    "print(count(a))"
   ]
  },
  {
   "cell_type": "code",
   "execution_count": 20,
   "id": "876a5d79",
   "metadata": {},
   "outputs": [
    {
     "name": "stdout",
     "output_type": "stream",
     "text": [
      "enter the string :apple\n",
      "pple\n"
     ]
    }
   ],
   "source": [
    "def removeVowl(s):\n",
    "    arr= {'a','e','i','o','u'}\n",
    "    for i in s:\n",
    "        for j in arr:\n",
    "            if i==j:\n",
    "                 return s.replace(i,'')\n",
    "            else:\n",
    "                continue\n",
    "     \n",
    "s=input(\"enter the string :\")\n",
    "print(removeVowl(s))\n",
    "            "
   ]
  },
  {
   "cell_type": "code",
   "execution_count": 1,
   "id": "fbeee6f2",
   "metadata": {},
   "outputs": [
    {
     "name": "stdout",
     "output_type": "stream",
     "text": [
      "6\n"
     ]
    }
   ],
   "source": [
    "def ractangle(leng=2,wid=3):\n",
    "    return leng*wid\n",
    "print(ractangle())"
   ]
  },
  {
   "cell_type": "code",
   "execution_count": null,
   "id": "6a1e46d0",
   "metadata": {},
   "outputs": [],
   "source": []
  }
 ],
 "metadata": {
  "kernelspec": {
   "display_name": "Python 3 (ipykernel)",
   "language": "python",
   "name": "python3"
  },
  "language_info": {
   "codemirror_mode": {
    "name": "ipython",
    "version": 3
   },
   "file_extension": ".py",
   "mimetype": "text/x-python",
   "name": "python",
   "nbconvert_exporter": "python",
   "pygments_lexer": "ipython3",
   "version": "3.9.7"
  }
 },
 "nbformat": 4,
 "nbformat_minor": 5
}
