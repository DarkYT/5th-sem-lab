{
 "cells": [
  {
   "cell_type": "code",
   "execution_count": 7,
   "id": "4ca652a2",
   "metadata": {},
   "outputs": [
    {
     "name": "stdout",
     "output_type": "stream",
     "text": [
      "enter the n 4\n",
      "4 X 1 = 4\n",
      "4 X 2 = 8\n",
      "4 X 3 = 12\n",
      "4 X 4 = 16\n",
      "4 X 5 = 20\n",
      "4 X 6 = 24\n",
      "4 X 7 = 28\n",
      "4 X 8 = 32\n",
      "4 X 9 = 36\n",
      "4 X 10 = 40\n"
     ]
    }
   ],
   "source": [
    "n=int(input(\"enter the n \"))\n",
    "for i in range(1,11):\n",
    "    print(f\"{n} X {i} = {n*i}\")"
   ]
  },
  {
   "cell_type": "code",
   "execution_count": 8,
   "id": "914c3ccb",
   "metadata": {},
   "outputs": [
    {
     "name": "stdout",
     "output_type": "stream",
     "text": [
      "1\n",
      "2\n",
      "3\n",
      "4\n",
      "5\n",
      "6\n",
      "7\n",
      "8\n",
      "9\n",
      "10\n"
     ]
    }
   ],
   "source": [
    "for i in range(1,11,):\n",
    "    print(i)"
   ]
  },
  {
   "cell_type": "code",
   "execution_count": 13,
   "id": "407c8767",
   "metadata": {},
   "outputs": [
    {
     "name": "stdout",
     "output_type": "stream",
     "text": [
      "50  49  48  47  46  45  44  43  42  41  40  39  38  37  36  35  34  33  32  31  30  29  28  27  26  25  24  23  22  21  20  19  18  17  16  15  14  13  12  11  10  9  8  7  6  5  4  3  2  1  "
     ]
    }
   ],
   "source": [
    "for i in range(50,0,-1):\n",
    "    print(i,\" \",end=\"\" )"
   ]
  },
  {
   "cell_type": "code",
   "execution_count": 14,
   "id": "dd26a657",
   "metadata": {},
   "outputs": [
    {
     "name": "stdout",
     "output_type": "stream",
     "text": [
      "2\n",
      "4\n",
      "6\n",
      "8\n",
      "10\n",
      "12\n",
      "14\n",
      "16\n",
      "18\n",
      "20\n",
      "22\n",
      "24\n",
      "26\n",
      "28\n",
      "30\n",
      "32\n",
      "34\n",
      "36\n",
      "38\n",
      "40\n",
      "42\n",
      "44\n",
      "46\n",
      "48\n",
      "50\n",
      "52\n",
      "54\n",
      "56\n",
      "58\n",
      "60\n",
      "62\n",
      "64\n",
      "66\n",
      "68\n",
      "70\n",
      "72\n",
      "74\n",
      "76\n",
      "78\n",
      "80\n",
      "82\n",
      "84\n",
      "86\n",
      "88\n",
      "90\n",
      "92\n",
      "94\n",
      "96\n",
      "98\n",
      "100\n"
     ]
    }
   ],
   "source": [
    "for i in range (1,101):\n",
    "    if(i%2==0):\n",
    "        print(i)"
   ]
  },
  {
   "cell_type": "code",
   "execution_count": 15,
   "id": "3e012335",
   "metadata": {},
   "outputs": [
    {
     "name": "stdout",
     "output_type": "stream",
     "text": [
      "300\n",
      "302\n",
      "304\n",
      "306\n",
      "308\n",
      "310\n",
      "312\n",
      "314\n",
      "316\n",
      "318\n",
      "320\n",
      "322\n",
      "324\n",
      "326\n",
      "328\n",
      "330\n",
      "332\n",
      "334\n",
      "336\n",
      "338\n",
      "340\n",
      "342\n",
      "344\n",
      "346\n",
      "348\n",
      "350\n",
      "352\n",
      "354\n",
      "356\n",
      "358\n",
      "360\n",
      "362\n",
      "364\n",
      "366\n",
      "368\n",
      "370\n",
      "372\n",
      "374\n",
      "376\n",
      "378\n",
      "380\n",
      "382\n",
      "384\n",
      "386\n",
      "388\n",
      "390\n",
      "392\n",
      "394\n",
      "396\n",
      "398\n",
      "400\n",
      "402\n",
      "404\n",
      "406\n",
      "408\n",
      "410\n",
      "412\n",
      "414\n",
      "416\n",
      "418\n",
      "420\n",
      "422\n",
      "424\n",
      "426\n",
      "428\n",
      "430\n",
      "432\n",
      "434\n",
      "436\n",
      "438\n",
      "440\n",
      "442\n",
      "444\n",
      "446\n",
      "448\n",
      "450\n",
      "452\n",
      "454\n",
      "456\n",
      "458\n",
      "460\n",
      "462\n",
      "464\n",
      "466\n",
      "468\n",
      "470\n",
      "472\n",
      "474\n",
      "476\n",
      "478\n",
      "480\n",
      "482\n",
      "484\n",
      "486\n",
      "488\n",
      "490\n",
      "492\n",
      "494\n",
      "496\n",
      "498\n",
      "500\n"
     ]
    }
   ],
   "source": [
    "for i in range (300,501):\n",
    "    if(i%2==0):\n",
    "        print(i)"
   ]
  },
  {
   "cell_type": "code",
   "execution_count": 19,
   "id": "67da5aee",
   "metadata": {},
   "outputs": [
    {
     "name": "stdout",
     "output_type": "stream",
     "text": [
      "enter n :5\n",
      "120\n"
     ]
    }
   ],
   "source": [
    "n=int(input(\"enter n :\"))\n",
    "fac=1\n",
    "for i in range (1,n+1):\n",
    "    fac*=i\n",
    "print(fac)\n",
    "    "
   ]
  },
  {
   "cell_type": "code",
   "execution_count": 23,
   "id": "3a934ab4",
   "metadata": {},
   "outputs": [
    {
     "name": "stdout",
     "output_type": "stream",
     "text": [
      "601\n",
      "598\n",
      "595\n",
      "592\n",
      "589\n",
      "586\n",
      "583\n",
      "580\n",
      "577\n",
      "574\n",
      "571\n",
      "568\n",
      "565\n",
      "562\n",
      "559\n",
      "556\n",
      "553\n",
      "550\n",
      "547\n",
      "544\n",
      "541\n",
      "538\n",
      "535\n",
      "532\n",
      "529\n",
      "526\n",
      "523\n",
      "520\n",
      "517\n",
      "514\n",
      "511\n",
      "508\n",
      "505\n",
      "502\n"
     ]
    }
   ],
   "source": [
    "for i in range (601,501,-3):\n",
    "        print(i)"
   ]
  },
  {
   "cell_type": "code",
   "execution_count": 25,
   "id": "1a7e6a43",
   "metadata": {},
   "outputs": [
    {
     "name": "stdout",
     "output_type": "stream",
     "text": [
      "300\n",
      "296\n",
      "292\n",
      "288\n",
      "284\n",
      "280\n",
      "276\n",
      "272\n",
      "268\n",
      "264\n",
      "260\n",
      "256\n",
      "252\n",
      "248\n",
      "244\n",
      "240\n",
      "236\n",
      "232\n",
      "228\n",
      "224\n",
      "220\n",
      "216\n",
      "212\n",
      "208\n",
      "204\n",
      "200\n",
      "196\n",
      "192\n",
      "188\n",
      "184\n",
      "180\n",
      "176\n",
      "172\n",
      "168\n",
      "164\n",
      "160\n",
      "156\n",
      "152\n",
      "148\n",
      "144\n",
      "140\n",
      "136\n",
      "132\n",
      "128\n",
      "124\n",
      "120\n",
      "116\n",
      "112\n",
      "108\n",
      "104\n",
      "100\n",
      "96\n",
      "92\n",
      "88\n",
      "84\n",
      "80\n",
      "76\n",
      "72\n",
      "68\n",
      "64\n",
      "60\n",
      "56\n",
      "52\n",
      "48\n",
      "44\n",
      "40\n",
      "36\n",
      "32\n",
      "28\n",
      "24\n",
      "20\n",
      "16\n",
      "12\n",
      "8\n",
      "4\n",
      "0\n",
      "-4\n"
     ]
    }
   ],
   "source": [
    "for i in range (300,-5,-4):\n",
    "        print(i)"
   ]
  },
  {
   "cell_type": "code",
   "execution_count": 35,
   "id": "be4f27cb",
   "metadata": {},
   "outputs": [
    {
     "name": "stdout",
     "output_type": "stream",
     "text": [
      "23532\n"
     ]
    }
   ],
   "source": [
    "n=23532\n",
    "rev=0\n",
    "while(n>0):\n",
    "    dig =n%10\n",
    "    rev=rev*10+dig\n",
    "    n=n//10\n",
    "print(rev)"
   ]
  },
  {
   "cell_type": "code",
   "execution_count": 49,
   "id": "19bde117",
   "metadata": {},
   "outputs": [
    {
     "name": "stdout",
     "output_type": "stream",
     "text": [
      "olleh \n"
     ]
    }
   ],
   "source": [
    "st=\"hello\"\n",
    "st2=\" \"\n",
    "for i in st:\n",
    "      st2=i+st2\n",
    "print(st2)\n",
    "\n"
   ]
  },
  {
   "cell_type": "markdown",
   "id": "d8d190fb",
   "metadata": {},
   "source": [
    "st=\"hello\"\n",
    "char='o'\n",
    "for i in st:\n",
    "      if i==char:\n",
    "      \n",
    "print(st2)"
   ]
  },
  {
   "cell_type": "code",
   "execution_count": 1,
   "id": "d04fdc69",
   "metadata": {},
   "outputs": [
    {
     "name": "stdout",
     "output_type": "stream",
     "text": [
      "2\n"
     ]
    }
   ],
   "source": [
    "st=\"hello\"\n",
    "car =\"l\"\n",
    "count =0\n",
    "for i in st:\n",
    "      if(i==car):\n",
    "        count+=1\n",
    "print(count)"
   ]
  },
  {
   "cell_type": "code",
   "execution_count": 7,
   "id": "935f0500",
   "metadata": {},
   "outputs": [
    {
     "name": "stdout",
     "output_type": "stream",
     "text": [
      "true\n"
     ]
    }
   ],
   "source": [
    "st=[\"a\",\"e\",\"i\",\"o\",\"u\"]\n",
    "car =\"a\"\n",
    "count =0\n",
    "for i in st:\n",
    "    if(i==car):\n",
    "        print(\"true\")\n",
    "        break\n",
    "    else: \n",
    "        print(\"false\")\n",
    "        break\n"
   ]
  },
  {
   "cell_type": "code",
   "execution_count": 28,
   "id": "620657cc",
   "metadata": {},
   "outputs": [
    {
     "name": "stdout",
     "output_type": "stream",
     "text": [
      "101 is prime\n",
      "103 is prime\n",
      "107 is prime\n",
      "109 is prime\n",
      "113 is prime\n",
      "127 is prime\n",
      "131 is prime\n",
      "137 is prime\n",
      "139 is prime\n",
      "149 is prime\n",
      "151 is prime\n",
      "157 is prime\n",
      "163 is prime\n",
      "167 is prime\n",
      "173 is prime\n",
      "179 is prime\n",
      "181 is prime\n",
      "191 is prime\n",
      "193 is prime\n",
      "197 is prime\n",
      "199 is prime\n",
      "211 is prime\n",
      "223 is prime\n",
      "227 is prime\n",
      "229 is prime\n",
      "233 is prime\n",
      "239 is prime\n",
      "241 is prime\n",
      "251 is prime\n",
      "257 is prime\n",
      "263 is prime\n",
      "269 is prime\n",
      "271 is prime\n",
      "277 is prime\n",
      "281 is prime\n",
      "283 is prime\n",
      "293 is prime\n",
      "307 is prime\n",
      "311 is prime\n",
      "313 is prime\n",
      "317 is prime\n",
      "331 is prime\n",
      "337 is prime\n",
      "347 is prime\n",
      "349 is prime\n",
      "353 is prime\n",
      "359 is prime\n",
      "367 is prime\n",
      "373 is prime\n",
      "379 is prime\n",
      "383 is prime\n",
      "389 is prime\n",
      "397 is prime\n",
      "401 is prime\n",
      "409 is prime\n",
      "419 is prime\n",
      "421 is prime\n",
      "431 is prime\n",
      "433 is prime\n",
      "439 is prime\n",
      "443 is prime\n",
      "449 is prime\n",
      "457 is prime\n",
      "461 is prime\n",
      "463 is prime\n",
      "467 is prime\n",
      "479 is prime\n",
      "487 is prime\n",
      "491 is prime\n",
      "499 is prime\n",
      "503 is prime\n",
      "509 is prime\n",
      "521 is prime\n",
      "523 is prime\n",
      "541 is prime\n",
      "547 is prime\n",
      "557 is prime\n",
      "563 is prime\n",
      "569 is prime\n",
      "571 is prime\n",
      "577 is prime\n",
      "587 is prime\n",
      "593 is prime\n",
      "599 is prime\n"
     ]
    }
   ],
   "source": [
    "\n",
    "for i in range(100,601):\n",
    "    count = 0\n",
    "    for j in range(2,i):\n",
    "        if i%j==0:\n",
    "            count+=1 \n",
    "            break\n",
    "    if count == 0:\n",
    "        print(i,\"is prime\")"
   ]
  },
  {
   "cell_type": "code",
   "execution_count": null,
   "id": "1243f9de",
   "metadata": {},
   "outputs": [],
   "source": [
    "for i in range(1,51):\n",
    "    "
   ]
  },
  {
   "cell_type": "code",
   "execution_count": null,
   "id": "770b0c19",
   "metadata": {},
   "outputs": [],
   "source": []
  }
 ],
 "metadata": {
  "kernelspec": {
   "display_name": "Python 3 (ipykernel)",
   "language": "python",
   "name": "python3"
  },
  "language_info": {
   "codemirror_mode": {
    "name": "ipython",
    "version": 3
   },
   "file_extension": ".py",
   "mimetype": "text/x-python",
   "name": "python",
   "nbconvert_exporter": "python",
   "pygments_lexer": "ipython3",
   "version": "3.9.7"
  }
 },
 "nbformat": 4,
 "nbformat_minor": 5
}
