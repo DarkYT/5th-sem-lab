{
 "cells": [
  {
   "cell_type": "code",
   "execution_count": 11,
   "id": "403e9190",
   "metadata": {},
   "outputs": [
    {
     "name": "stdout",
     "output_type": "stream",
     "text": [
      "[4, 6, 11]\n"
     ]
    }
   ],
   "source": [
    "num=[2,3,4,5,6,7,11,12,13]\n",
    "del num[-1]\n",
    "del num[0]\n",
    "# del num[0,4]\n",
    "del num[::2]\n",
    "\n",
    "print(num)"
   ]
  },
  {
   "cell_type": "code",
   "execution_count": 8,
   "id": "1a1806fb",
   "metadata": {},
   "outputs": [
    {
     "name": "stdout",
     "output_type": "stream",
     "text": [
      "[3, 5, 7, 12]\n"
     ]
    }
   ],
   "source": [
    "num=[2,3,4,5,6,7,11,12,13]\n",
    "del num[::2]\n",
    "print(num)"
   ]
  },
  {
   "cell_type": "code",
   "execution_count": 14,
   "id": "bf82ccd6",
   "metadata": {},
   "outputs": [
    {
     "ename": "IndexError",
     "evalue": "list assignment index out of range",
     "output_type": "error",
     "traceback": [
      "\u001b[0;31m---------------------------------------------------------------------------\u001b[0m",
      "\u001b[0;31mIndexError\u001b[0m                                Traceback (most recent call last)",
      "\u001b[0;32m/tmp/ipykernel_6230/1618269652.py\u001b[0m in \u001b[0;36m<module>\u001b[0;34m\u001b[0m\n\u001b[1;32m      5\u001b[0m             \u001b[0ml\u001b[0m\u001b[0;34m[\u001b[0m\u001b[0mi\u001b[0m\u001b[0;34m-\u001b[0m\u001b[0;36m1\u001b[0m\u001b[0;34m]\u001b[0m\u001b[0;34m=\u001b[0m\u001b[0mpow\u001b[0m\u001b[0;34m(\u001b[0m\u001b[0mi\u001b[0m\u001b[0;34m,\u001b[0m\u001b[0;36m2\u001b[0m\u001b[0;34m)\u001b[0m\u001b[0;34m\u001b[0m\u001b[0;34m\u001b[0m\u001b[0m\n\u001b[1;32m      6\u001b[0m      \u001b[0;32mreturn\u001b[0m \u001b[0mi\u001b[0m\u001b[0;34m\u001b[0m\u001b[0;34m\u001b[0m\u001b[0m\n\u001b[0;32m----> 7\u001b[0;31m \u001b[0mprint\u001b[0m\u001b[0;34m(\u001b[0m\u001b[0msquar\u001b[0m\u001b[0;34m(\u001b[0m\u001b[0ml\u001b[0m\u001b[0;34m)\u001b[0m\u001b[0;34m)\u001b[0m\u001b[0;34m\u001b[0m\u001b[0;34m\u001b[0m\u001b[0m\n\u001b[0m",
      "\u001b[0;32m/tmp/ipykernel_6230/1618269652.py\u001b[0m in \u001b[0;36msquar\u001b[0;34m(l)\u001b[0m\n\u001b[1;32m      3\u001b[0m \u001b[0;32mdef\u001b[0m \u001b[0msquar\u001b[0m\u001b[0;34m(\u001b[0m\u001b[0ml\u001b[0m\u001b[0;34m)\u001b[0m\u001b[0;34m:\u001b[0m\u001b[0;34m\u001b[0m\u001b[0;34m\u001b[0m\u001b[0m\n\u001b[1;32m      4\u001b[0m      \u001b[0;32mfor\u001b[0m \u001b[0mi\u001b[0m \u001b[0;32min\u001b[0m \u001b[0ml\u001b[0m\u001b[0;34m:\u001b[0m\u001b[0;34m\u001b[0m\u001b[0;34m\u001b[0m\u001b[0m\n\u001b[0;32m----> 5\u001b[0;31m             \u001b[0ml\u001b[0m\u001b[0;34m[\u001b[0m\u001b[0mi\u001b[0m\u001b[0;34m-\u001b[0m\u001b[0;36m1\u001b[0m\u001b[0;34m]\u001b[0m\u001b[0;34m=\u001b[0m\u001b[0mpow\u001b[0m\u001b[0;34m(\u001b[0m\u001b[0mi\u001b[0m\u001b[0;34m,\u001b[0m\u001b[0;36m2\u001b[0m\u001b[0;34m)\u001b[0m\u001b[0;34m\u001b[0m\u001b[0;34m\u001b[0m\u001b[0m\n\u001b[0m\u001b[1;32m      6\u001b[0m      \u001b[0;32mreturn\u001b[0m \u001b[0mi\u001b[0m\u001b[0;34m\u001b[0m\u001b[0;34m\u001b[0m\u001b[0m\n\u001b[1;32m      7\u001b[0m \u001b[0mprint\u001b[0m\u001b[0;34m(\u001b[0m\u001b[0msquar\u001b[0m\u001b[0;34m(\u001b[0m\u001b[0ml\u001b[0m\u001b[0;34m)\u001b[0m\u001b[0;34m)\u001b[0m\u001b[0;34m\u001b[0m\u001b[0;34m\u001b[0m\u001b[0m\n",
      "\u001b[0;31mIndexError\u001b[0m: list assignment index out of range"
     ]
    }
   ],
   "source": [
    "l=[1,3,4,5,6,7]\n",
    "t={11,22,33,44,55}\n",
    "def squar(l):\n",
    "     for i in l:\n",
    "            l[i]=pow(i,2)\n",
    "     return i\n",
    "print(squar(l))"
   ]
  },
  {
   "cell_type": "code",
   "execution_count": 19,
   "id": "ceb49cf1",
   "metadata": {},
   "outputs": [
    {
     "data": {
      "text/plain": [
       "[2, 6, 8, 10, 12, 14]"
      ]
     },
     "execution_count": 19,
     "metadata": {},
     "output_type": "execute_result"
    }
   ],
   "source": [
    "def squar(num):\n",
    "    for i in range(len(num)):\n",
    "        num[i]*=2;\n",
    "#         print(num[i], end=\" \")\n",
    "    return num\n",
    "l=[1,3,4,5,6,7]\n",
    "squar(l)"
   ]
  },
  {
   "cell_type": "code",
   "execution_count": 23,
   "id": "6bc2894e",
   "metadata": {},
   "outputs": [
    {
     "name": "stdout",
     "output_type": "stream",
     "text": [
      "['a', 'd', 'd', 'f', 'f', 'f', 's', 's']\n",
      "['apple', 'banana', 'orange']\n",
      "['orange', 'banana', 'apple']\n"
     ]
    }
   ],
   "source": [
    "letters='fasdfsdf'\n",
    "asc=sorted(letters)\n",
    "print(asc)\n",
    "color=['apple','orange','banana']\n",
    "asc1=sorted(color)\n",
    "print(asc1)\n",
    "dec=asc1[::-1]\n",
    "# dec= color.sort(reverse =True)\n",
    "print(dec)"
   ]
  },
  {
   "cell_type": "code",
   "execution_count": 29,
   "id": "74ff05f0",
   "metadata": {},
   "outputs": [
    {
     "name": "stdout",
     "output_type": "stream",
     "text": [
      "3\n"
     ]
    }
   ],
   "source": [
    "num=[1,2,3,4,5,5,6,7]\n",
    "l=num.index(4)\n",
    "print(l)\n",
    "# num.index(2,4)"
   ]
  },
  {
   "cell_type": "code",
   "execution_count": 38,
   "id": "26355b17",
   "metadata": {},
   "outputs": [
    {
     "name": "stdout",
     "output_type": "stream",
     "text": [
      "3\n",
      "None\n"
     ]
    }
   ],
   "source": [
    "num=[1,2,3,4,5,5,6,7]\n",
    "l=num.index(4)\n",
    "num=num.append(23)\n",
    "print(l)\n",
    "print(num)\n",
    "# num.index(2,4)\n"
   ]
  },
  {
   "cell_type": "code",
   "execution_count": 41,
   "id": "82ae03dc",
   "metadata": {},
   "outputs": [
    {
     "name": "stdout",
     "output_type": "stream",
     "text": [
      "[1, 2, 3, 4, 5, 10, 20, 30]\n"
     ]
    }
   ],
   "source": [
    "num=[1,2,3,4,5]\n",
    "num.extend((10,20,30))\n",
    "print(num)"
   ]
  },
  {
   "cell_type": "code",
   "execution_count": 44,
   "id": "747cdb54",
   "metadata": {},
   "outputs": [
    {
     "name": "stdout",
     "output_type": "stream",
     "text": [
      "['orange', 'banana']\n",
      "[]\n"
     ]
    }
   ],
   "source": [
    "color=['apple','orange','banana']\n",
    "color.remove('apple')\n",
    "print(color)\n",
    "color.clear()\n",
    "print(color)"
   ]
  },
  {
   "cell_type": "code",
   "execution_count": 49,
   "id": "668ab5b0",
   "metadata": {},
   "outputs": [
    {
     "name": "stdout",
     "output_type": "stream",
     "text": [
      "1\n",
      "1\n",
      "3\n",
      "1\n",
      "3\n"
     ]
    }
   ],
   "source": [
    "num=[1,2,3,5,5,3,3,4,5]\n",
    "for i in range(1,6):\n",
    "    print(num.count(i))"
   ]
  },
  {
   "cell_type": "code",
   "execution_count": 54,
   "id": "d73e6573",
   "metadata": {},
   "outputs": [
    {
     "name": "stdout",
     "output_type": "stream",
     "text": [
      "['red', 'orange']\n"
     ]
    },
    {
     "data": {
      "text/plain": [
       "'orange'"
      ]
     },
     "execution_count": 54,
     "metadata": {},
     "output_type": "execute_result"
    }
   ],
   "source": [
    "stack=[]\n",
    "color=['apple','orange','banana']\n",
    "stack.append('red')\n",
    "stack.append(color[1])\n",
    "print(stack)\n",
    "stack.pop()"
   ]
  },
  {
   "cell_type": "code",
   "execution_count": null,
   "id": "2f770349",
   "metadata": {},
   "outputs": [],
   "source": []
  }
 ],
 "metadata": {
  "kernelspec": {
   "display_name": "Python 3 (ipykernel)",
   "language": "python",
   "name": "python3"
  },
  "language_info": {
   "codemirror_mode": {
    "name": "ipython",
    "version": 3
   },
   "file_extension": ".py",
   "mimetype": "text/x-python",
   "name": "python",
   "nbconvert_exporter": "python",
   "pygments_lexer": "ipython3",
   "version": "3.9.7"
  }
 },
 "nbformat": 4,
 "nbformat_minor": 5
}
