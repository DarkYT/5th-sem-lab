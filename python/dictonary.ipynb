{
 "cells": [
  {
   "cell_type": "code",
   "execution_count": 2,
   "id": "62eb40dd",
   "metadata": {},
   "outputs": [
    {
     "name": "stdout",
     "output_type": "stream",
     "text": [
      "l1= [1, 2, [10, 4]]\n",
      "l2= [1, 2, [10, 4]]\n",
      "l1= [1, 2, [10, 4]]\n",
      "l3= [1, 2, [20, 4]]\n"
     ]
    }
   ],
   "source": [
    "import copy\n",
    "l1=[1,2,[3,4]]\n",
    "l2=l1.copy()\n",
    "l2[2][0]=10\n",
    "print(\"l1=\",l1)\n",
    "print(\"l2=\", l2)\n",
    "l3=copy.deepcopy(l1)\n",
    "l3[2][0]=20\n",
    "print(\"l1=\",l1)\n",
    "print(\"l3=\",l3)"
   ]
  },
  {
   "cell_type": "code",
   "execution_count": 23,
   "id": "5f201b10",
   "metadata": {},
   "outputs": [
    {
     "name": "stdout",
     "output_type": "stream",
     "text": [
      "efwef\n"
     ]
    }
   ],
   "source": [
    "dic1={'india':80,'fise':80,'efwef':50}\n",
    "dic1\n",
    "print(min(dic1))"
   ]
  },
  {
   "cell_type": "code",
   "execution_count": 10,
   "id": "968f9ec2",
   "metadata": {},
   "outputs": [
    {
     "name": "stdout",
     "output_type": "stream",
     "text": [
      "{'india': 80, 'fise': 80, 'efwef': 50}\n",
      "dict_keys(['india', 'fise', 'efwef'])\n",
      "dict_values([80, 80, 50])\n"
     ]
    }
   ],
   "source": [
    "dic1={'india':80,'fise':80,'efwef':50}\n",
    "print(dic1)\n",
    "print(dic1.keys())\n",
    "print(dic1.values())"
   ]
  },
  {
   "cell_type": "code",
   "execution_count": 19,
   "id": "30df7e6b",
   "metadata": {},
   "outputs": [
    {
     "name": "stdout",
     "output_type": "stream",
     "text": [
      "dict_keys([1, 2, 3])\n",
      "1\n"
     ]
    }
   ],
   "source": [
    "month={}\n",
    "month[1]='jan'\n",
    "month[2]='feb'\n",
    "month[3]='mar'\n",
    "print(month.keys())\n",
    "print(min(month))"
   ]
  },
  {
   "cell_type": "code",
   "execution_count": 54,
   "id": "bcc79d76",
   "metadata": {},
   "outputs": [
    {
     "name": "stdout",
     "output_type": "stream",
     "text": [
      "{0: 'zero', 1: 'one', 2: 'two', 3: 'three', 4: 'four', 7: 'seven'}\n",
      "0\n",
      "7\n",
      "17\n",
      "two\n",
      "True\n",
      "{0: 'zero', 1: 'one', 2: 'two', 3: 'three', 4: 'four'}\n",
      "kya kar raha he bhai ya nhi he tera dictionary ma \n",
      "None\n",
      "{0: 'zero', 1: 'one', 2: 'two', 3: 'three', 4: 'four'}\n",
      "{8: '2@', 9: '235', 10: 'ijijidh'}\n",
      "0 1 2 3 4 8 9 10 "
     ]
    }
   ],
   "source": [
    "num={\n",
    "    0:\"zero\",\n",
    "    1:\"one\",\n",
    "    2:\"two\",\n",
    "    3:\"three\",\n",
    "    4:'four',\n",
    "    7:'seven'\n",
    "}\n",
    "print(num)\n",
    "print(min(num))\n",
    "print(max(num))\n",
    "print(sum(num))\n",
    "print(num[2])\n",
    "print(0 in num)\n",
    "del num[7]\n",
    "print(num)\n",
    "s=num.get(5,\"kya kar raha he bhai ya nhi he tera dictionary ma \")\n",
    "g=num.get(6)\n",
    "print(s)\n",
    "print(g)\n",
    "more={\n",
    "    8:\"2@\",\n",
    "    9:\"235\",\n",
    "    10:'ijijidh'\n",
    "}\n",
    "print(num)\n",
    "new=more.copy()\n",
    "id(new),id(more)\n",
    "print(new)\n",
    "num.update(more)\n",
    "\n",
    "for m in sorted(num):\n",
    "    print(m ,end=\" \")"
   ]
  },
  {
   "cell_type": "code",
   "execution_count": 58,
   "id": "271d315d",
   "metadata": {},
   "outputs": [
    {
     "name": "stdout",
     "output_type": "stream",
     "text": [
      "{0: 'zero', 1: 'one', 2: 'two', 3: 'three', 4: 'four', 7: 'seven'}\n",
      "four one seven three two zero \n",
      "0 1 2 3 4 7 "
     ]
    }
   ],
   "source": [
    "num={\n",
    "    0:\"zero\",\n",
    "    1:\"one\",\n",
    "    2:\"two\",\n",
    "    3:\"three\",\n",
    "    4:'four',\n",
    "    7:'seven'\n",
    "}\n",
    "print(num)\n",
    "for m in sorted(num.values()):\n",
    "    print(m ,end=\" \")\n",
    "print()\n",
    "for m in sorted(num.keys()):\n",
    "    print(m ,end=\" \")"
   ]
  },
  {
   "cell_type": "code",
   "execution_count": 63,
   "id": "73b30ec0",
   "metadata": {},
   "outputs": [
    {
     "name": "stdout",
     "output_type": "stream",
     "text": [
      "{1: 1, 2: 2, 3: 3, 4: 4, 5: 5}\n",
      "{1: 2, 2: 4, 3: 6, 4: 8, 5: 10}\n"
     ]
    }
   ],
   "source": [
    "dt={1:1,2:2,3:3,4:4,5:5}\n",
    "dtcal={num:2*num for num in range(1,6)}\n",
    "print(dt)\n",
    "print(dtcal  "
   ]
  },
  {
   "cell_type": "code",
   "execution_count": null,
   "id": "0699d076",
   "metadata": {},
   "outputs": [],
   "source": []
  }
 ],
 "metadata": {
  "kernelspec": {
   "display_name": "Python 3 (ipykernel)",
   "language": "python",
   "name": "python3"
  },
  "language_info": {
   "codemirror_mode": {
    "name": "ipython",
    "version": 3
   },
   "file_extension": ".py",
   "mimetype": "text/x-python",
   "name": "python",
   "nbconvert_exporter": "python",
   "pygments_lexer": "ipython3",
   "version": "3.9.7"
  }
 },
 "nbformat": 4,
 "nbformat_minor": 5
}
