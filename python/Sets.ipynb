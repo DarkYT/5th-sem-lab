{
 "cells": [
  {
   "cell_type": "code",
   "execution_count": 13,
   "id": "0727ef74",
   "metadata": {},
   "outputs": [
    {
     "name": "stdout",
     "output_type": "stream",
     "text": [
      "YELLO\n",
      "BLUE\n",
      "RED\n",
      "GREEN\n",
      "4\n",
      "[0, 1, 2, 3, 4, 5, 6, 7, 8, 9, 0, 1, 2, 3, 4, 5, 6, 7, 8, 9]\n",
      "{0, 1, 2, 3, 4, 5, 6, 7, 8, 9}\n"
     ]
    },
    {
     "data": {
      "text/plain": [
       "set()"
      ]
     },
     "execution_count": 13,
     "metadata": {},
     "output_type": "execute_result"
    }
   ],
   "source": [
    "color={'red','green','blue','yello'}\n",
    "for c in color:\n",
    "    print(c.upper())\n",
    "print(len(color))\n",
    "members=list(range(10))+list(range(10))\n",
    "print(members)\n",
    "print(set(members))\n",
    "set()"
   ]
  },
  {
   "cell_type": "code",
   "execution_count": 14,
   "id": "6d1818c9",
   "metadata": {},
   "outputs": [
    {
     "data": {
      "text/plain": [
       "True"
      ]
     },
     "execution_count": 14,
     "metadata": {},
     "output_type": "execute_result"
    }
   ],
   "source": [
    "{1,3,5}=={3,5,1}"
   ]
  },
  {
   "cell_type": "code",
   "execution_count": 15,
   "id": "738aca51",
   "metadata": {},
   "outputs": [
    {
     "data": {
      "text/plain": [
       "False"
      ]
     },
     "execution_count": 15,
     "metadata": {},
     "output_type": "execute_result"
    }
   ],
   "source": [
    "{1,3,5}!={3,5,1}"
   ]
  },
  {
   "cell_type": "code",
   "execution_count": 19,
   "id": "86bea261",
   "metadata": {},
   "outputs": [
    {
     "data": {
      "text/plain": [
       "False"
      ]
     },
     "execution_count": 19,
     "metadata": {},
     "output_type": "execute_result"
    }
   ],
   "source": [
    "{1,3,5}<{3,5,1}\n",
    "# left side set is proper set of right side or not "
   ]
  },
  {
   "cell_type": "code",
   "execution_count": 20,
   "id": "0e1f2a24",
   "metadata": {},
   "outputs": [
    {
     "data": {
      "text/plain": [
       "True"
      ]
     },
     "execution_count": 20,
     "metadata": {},
     "output_type": "execute_result"
    }
   ],
   "source": [
    "{1,3,5}<={3,5,1}\n",
    "# improper set "
   ]
  },
  {
   "cell_type": "code",
   "execution_count": 22,
   "id": "f9b32d23",
   "metadata": {},
   "outputs": [
    {
     "data": {
      "text/plain": [
       "False"
      ]
     },
     "execution_count": 22,
     "metadata": {},
     "output_type": "execute_result"
    }
   ],
   "source": [
    "{1,3,5}>{3,5,1}\n",
    "# wheather right side set is proper set of left side or not "
   ]
  },
  {
   "cell_type": "code",
   "execution_count": 23,
   "id": "0606de06",
   "metadata": {},
   "outputs": [
    {
     "data": {
      "text/plain": [
       "True"
      ]
     },
     "execution_count": 23,
     "metadata": {},
     "output_type": "execute_result"
    }
   ],
   "source": [
    "{1,3,5}>={3,5,1}\n",
    "# improper set"
   ]
  },
  {
   "cell_type": "code",
   "execution_count": 32,
   "id": "7b15058b",
   "metadata": {},
   "outputs": [
    {
     "data": {
      "text/plain": [
       "True"
      ]
     },
     "execution_count": 32,
     "metadata": {},
     "output_type": "execute_result"
    }
   ],
   "source": [
    "{1,3,5}.issubset({3,5,1})"
   ]
  },
  {
   "cell_type": "code",
   "execution_count": 25,
   "id": "cf0c6bf2",
   "metadata": {},
   "outputs": [
    {
     "data": {
      "text/plain": [
       "True"
      ]
     },
     "execution_count": 25,
     "metadata": {},
     "output_type": "execute_result"
    }
   ],
   "source": [
    "{1,3,5}.issuperset({3,5,1})"
   ]
  },
  {
   "cell_type": "code",
   "execution_count": 37,
   "id": "6d715d2a",
   "metadata": {},
   "outputs": [
    {
     "data": {
      "text/plain": [
       "{1, 3, 5, 23, 44, 53}"
      ]
     },
     "execution_count": 37,
     "metadata": {},
     "output_type": "execute_result"
    }
   ],
   "source": [
    "{1,3,5}.union({3,5,1,44,53,23})"
   ]
  },
  {
   "cell_type": "code",
   "execution_count": 40,
   "id": "68248f1a",
   "metadata": {},
   "outputs": [
    {
     "data": {
      "text/plain": [
       "{1, 3, 5, 23, 44, 53}"
      ]
     },
     "execution_count": 40,
     "metadata": {},
     "output_type": "execute_result"
    }
   ],
   "source": [
    "{1,3,5}|{3,5,1,44,53,23}    #anothe syntax"
   ]
  },
  {
   "cell_type": "code",
   "execution_count": 38,
   "id": "4da81f77",
   "metadata": {},
   "outputs": [
    {
     "data": {
      "text/plain": [
       "{1, 3, 5, 23, 44, 53}"
      ]
     },
     "execution_count": 38,
     "metadata": {},
     "output_type": "execute_result"
    }
   ],
   "source": [
    "{1,3,5}.union([3,5,1,44,53,23])"
   ]
  },
  {
   "cell_type": "code",
   "execution_count": 33,
   "id": "89101ea5",
   "metadata": {},
   "outputs": [
    {
     "data": {
      "text/plain": [
       "{1, 3, 5}"
      ]
     },
     "execution_count": 33,
     "metadata": {},
     "output_type": "execute_result"
    }
   ],
   "source": [
    "{1,3,5}.intersection({3,5,1,44,53,23})"
   ]
  },
  {
   "cell_type": "code",
   "execution_count": 43,
   "id": "6a59cde9",
   "metadata": {},
   "outputs": [
    {
     "data": {
      "text/plain": [
       "{23, 44, 53}"
      ]
     },
     "execution_count": 43,
     "metadata": {},
     "output_type": "execute_result"
    }
   ],
   "source": [
    "{1,3,5}^{3,5,1,44,53,23}  #symmetric-difference (A-B)&(B-a)"
   ]
  },
  {
   "cell_type": "code",
   "execution_count": 42,
   "id": "9ff49d78",
   "metadata": {},
   "outputs": [
    {
     "data": {
      "text/plain": [
       "{1, 3, 5}"
      ]
     },
     "execution_count": 42,
     "metadata": {},
     "output_type": "execute_result"
    }
   ],
   "source": [
    "{1,3,5}&{3,5,1,44,53,23}  #intersection "
   ]
  },
  {
   "cell_type": "code",
   "execution_count": 45,
   "id": "c5b3c1a6",
   "metadata": {},
   "outputs": [
    {
     "data": {
      "text/plain": [
       "{23, 44, 53}"
      ]
     },
     "execution_count": 45,
     "metadata": {},
     "output_type": "execute_result"
    }
   ],
   "source": [
    "{3,5,1,44,53,23}-{1,3,5} #difference"
   ]
  },
  {
   "cell_type": "code",
   "execution_count": 48,
   "id": "7625feb1",
   "metadata": {},
   "outputs": [
    {
     "data": {
      "text/plain": [
       "{23, 44, 53}"
      ]
     },
     "execution_count": 48,
     "metadata": {},
     "output_type": "execute_result"
    }
   ],
   "source": [
    "{3,5,1,44,53,23}.difference({1,3,5})"
   ]
  },
  {
   "cell_type": "code",
   "execution_count": 49,
   "id": "3b9589d6",
   "metadata": {},
   "outputs": [
    {
     "data": {
      "text/plain": [
       "{34, 56, 75}"
      ]
     },
     "execution_count": 49,
     "metadata": {},
     "output_type": "execute_result"
    }
   ],
   "source": [
    "{2,4,56,75,3,34,5}-{54,4,3,2,54,5,6} #A-B"
   ]
  },
  {
   "cell_type": "code",
   "execution_count": 50,
   "id": "75259edf",
   "metadata": {},
   "outputs": [
    {
     "data": {
      "text/plain": [
       "{6, 54}"
      ]
     },
     "execution_count": 50,
     "metadata": {},
     "output_type": "execute_result"
    }
   ],
   "source": [
    "{54,4,3,2,54,5,6}-{2,4,56,75,3,34,5} #B-A"
   ]
  },
  {
   "cell_type": "code",
   "execution_count": 53,
   "id": "85197513",
   "metadata": {},
   "outputs": [
    {
     "data": {
      "text/plain": [
       "{6, 34, 54, 56, 75}"
      ]
     },
     "execution_count": 53,
     "metadata": {},
     "output_type": "execute_result"
    }
   ],
   "source": [
    "{34,56,75}|{6,54}  #(A-B)&(B-a)"
   ]
  },
  {
   "cell_type": "code",
   "execution_count": 52,
   "id": "1b860ca8",
   "metadata": {},
   "outputs": [
    {
     "data": {
      "text/plain": [
       "{6, 34, 54, 56, 75}"
      ]
     },
     "execution_count": 52,
     "metadata": {},
     "output_type": "execute_result"
    }
   ],
   "source": [
    "{2,4,56,75,3,34,5}^{54,4,3,2,54,5,6}"
   ]
  },
  {
   "cell_type": "code",
   "execution_count": 57,
   "id": "846d3c66",
   "metadata": {},
   "outputs": [
    {
     "data": {
      "text/plain": [
       "False"
      ]
     },
     "execution_count": 57,
     "metadata": {},
     "output_type": "execute_result"
    }
   ],
   "source": [
    "{1,3,5}.isdisjoint({3,5,1,44,53,23}) #if both sets have no common element then they are disjoint"
   ]
  },
  {
   "cell_type": "code",
   "execution_count": 61,
   "id": "8aa4dcc6",
   "metadata": {},
   "outputs": [
    {
     "name": "stdout",
     "output_type": "stream",
     "text": [
      "unoin  {10, 80, 50, 20, 60, 30}\n",
      "intersection  {10, 20, 30}\n",
      "difference  {50}\n",
      "symmmetric-difference  {80, 50, 60}\n",
      "is disjoint  False\n"
     ]
    }
   ],
   "source": [
    "s1={10,20,30,50}\n",
    "s2={80,10,20,30,60}\n",
    "print(\"unoin \",s1|s2)\n",
    "print(\"intersection \",s1&s2)\n",
    "print(\"difference \",s1-s2)\n",
    "print(\"symmmetric-difference \",s1^s2)\n",
    "print(\"is disjoint \",s1.isdisjoint(s2))\n"
   ]
  },
  {
   "cell_type": "code",
   "execution_count": 66,
   "id": "2e385474",
   "metadata": {},
   "outputs": [
    {
     "name": "stdout",
     "output_type": "stream",
     "text": [
      "{2, 3, 4, 5, 34, 56, 75, 77}\n",
      "{2, 3, 5, 34, 56, 75, 77}\n",
      "set()\n"
     ]
    }
   ],
   "source": [
    "num={2,4,56,75,3,34,5}\n",
    "num.add(77)\n",
    "print(num)\n",
    "num.remove(4)\n",
    "print(num)\n",
    "num.pop()\n",
    "num.clear()\n",
    "print(num)"
   ]
  },
  {
   "cell_type": "code",
   "execution_count": 77,
   "id": "5f53a598",
   "metadata": {},
   "outputs": [
    {
     "name": "stdout",
     "output_type": "stream",
     "text": [
      "set()\n",
      "{34, 5, 23}\n"
     ]
    }
   ],
   "source": [
    "num=set()\n",
    "print(num)\n",
    "num.add(23)\n",
    "num.add(234)\n",
    "num.add(5)\n",
    "num.add(34)\n",
    "# num.remove(43)\n",
    "num.pop()\n",
    "print(num)"
   ]
  },
  {
   "cell_type": "code",
   "execution_count": 80,
   "id": "4494f8dc",
   "metadata": {},
   "outputs": [
    {
     "name": "stdout",
     "output_type": "stream",
     "text": [
      "{0, 1, 2, 3, 4, 5, 6, 7, 8, 9}\n"
     ]
    }
   ],
   "source": [
    "n1={i for i in range(10)}\n",
    "print(n1)"
   ]
  },
  {
   "cell_type": "code",
   "execution_count": 82,
   "id": "6d2cb11d",
   "metadata": {},
   "outputs": [
    {
     "name": "stdout",
     "output_type": "stream",
     "text": [
      "{0, 1, 64, 4, 36, 9, 16, 49, 81, 25}\n"
     ]
    }
   ],
   "source": [
    "n1={i**2 for i in range(10)}\n",
    "print(n1)"
   ]
  },
  {
   "cell_type": "code",
   "execution_count": 90,
   "id": "7a290e31",
   "metadata": {},
   "outputs": [
    {
     "name": "stdout",
     "output_type": "stream",
     "text": [
      "{1, 2, 3, 4, 5}\n",
      "{1, 2, 3, 4, 5}\n",
      "{1, 2, 3, 4, 5, 6, 8, 9, 10, 12, 15, 16, 20, 25}\n"
     ]
    }
   ],
   "source": [
    "x={i for i in range(1,6) }\n",
    "print(x)\n",
    "y={i for i in range(1,6)}\n",
    "print(y)\n",
    "z={i*j for i in range(1,6) for j in range(1,6)}\n",
    "print(z)\n"
   ]
  },
  {
   "cell_type": "code",
   "execution_count": 95,
   "id": "128a2b11",
   "metadata": {},
   "outputs": [
    {
     "name": "stdout",
     "output_type": "stream",
     "text": [
      "{5, 7}\n"
     ]
    }
   ],
   "source": [
    "l1={'hello','world','spandan','patel'}\n",
    "l2={len(i) for i in l1}\n",
    "print(l2)\n"
   ]
  },
  {
   "cell_type": "code",
   "execution_count": null,
   "id": "d5d4a95b",
   "metadata": {},
   "outputs": [],
   "source": []
  },
  {
   "cell_type": "code",
   "execution_count": null,
   "id": "434bd5ed",
   "metadata": {},
   "outputs": [],
   "source": []
  }
 ],
 "metadata": {
  "kernelspec": {
   "display_name": "Python 3 (ipykernel)",
   "language": "python",
   "name": "python3"
  },
  "language_info": {
   "codemirror_mode": {
    "name": "ipython",
    "version": 3
   },
   "file_extension": ".py",
   "mimetype": "text/x-python",
   "name": "python",
   "nbconvert_exporter": "python",
   "pygments_lexer": "ipython3",
   "version": "3.9.7"
  }
 },
 "nbformat": 4,
 "nbformat_minor": 5
}
