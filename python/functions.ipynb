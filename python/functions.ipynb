{
 "cells": [
  {
   "cell_type": "code",
   "execution_count": 4,
   "id": "5ca6cc31",
   "metadata": {},
   "outputs": [
    {
     "name": "stdout",
     "output_type": "stream",
     "text": [
      "16\n",
      "25\n",
      "36\n"
     ]
    }
   ],
   "source": [
    "def squar(num):\n",
    "    return num**2\n",
    "print(squar(4))\n",
    "print(squar(5))\n",
    "print(squar(6))"
   ]
  },
  {
   "cell_type": "code",
   "execution_count": 5,
   "id": "c88c451f",
   "metadata": {},
   "outputs": [
    {
     "name": "stdout",
     "output_type": "stream",
     "text": [
      "10\n"
     ]
    }
   ],
   "source": [
    "def sum(num1, num2,num3):\n",
    "    return num1+num2+num3\n",
    "print(sum(2,3,5))"
   ]
  },
  {
   "cell_type": "code",
   "execution_count": 7,
   "id": "a9ee4f5c",
   "metadata": {},
   "outputs": [
    {
     "name": "stdout",
     "output_type": "stream",
     "text": [
      "5\n",
      "4.3\n"
     ]
    }
   ],
   "source": [
    "def max(a,b,c):\n",
    "    if a>b and b>c:\n",
    "        return a\n",
    "    if b>c and c>a:\n",
    "        return b\n",
    "    else:\n",
    "        return c\n",
    "print(max(3,4,5))\n",
    "print(max(3.3,4.3,3.7))"
   ]
  },
  {
   "cell_type": "code",
   "execution_count": 11,
   "id": "2e295caf",
   "metadata": {},
   "outputs": [
    {
     "name": "stdout",
     "output_type": "stream",
     "text": [
      "enter num: 345324\n",
      "6\n"
     ]
    }
   ],
   "source": [
    "def count(a):\n",
    "    c=0\n",
    "    while (a!=0):\n",
    "            dig=a%10\n",
    "            c+=1;\n",
    "            a=a//10\n",
    "    return c\n",
    "a=int(input(\"enter num: \"))\n",
    "print(count(a))"
   ]
  },
  {
   "cell_type": "code",
   "execution_count": 20,
   "id": "876a5d79",
   "metadata": {},
   "outputs": [
    {
     "name": "stdout",
     "output_type": "stream",
     "text": [
      "enter the string :apple\n",
      "pple\n"
     ]
    }
   ],
   "source": [
    "def removeVowl(s):\n",
    "    arr= {'a','e','i','o','u'}\n",
    "    for i in s:\n",
    "        for j in arr:\n",
    "            if i==j:\n",
    "                 return s.replace(i,'')\n",
    "            else:\n",
    "                continue\n",
    "     \n",
    "s=input(\"enter the string :\")\n",
    "print(removeVowl(s))\n",
    "            "
   ]
  },
  {
   "cell_type": "code",
   "execution_count": 1,
   "id": "fbeee6f2",
   "metadata": {},
   "outputs": [
    {
     "name": "stdout",
     "output_type": "stream",
     "text": [
      "6\n"
     ]
    }
   ],
   "source": [
    "def ractangle(leng=2,wid=3):\n",
    "    return leng*wid\n",
    "print(ractangle())"
   ]
  },
  {
   "cell_type": "code",
   "execution_count": 8,
   "id": "6a1e46d0",
   "metadata": {},
   "outputs": [
    {
     "name": "stdout",
     "output_type": "stream",
     "text": [
      "129.2\n"
     ]
    }
   ],
   "source": [
    "def average(*args):\n",
    "    return sum(args)/len(args)\n",
    "grade={2,34,343,234,33}\n",
    "print(average(*grade))\n"
   ]
  },
  {
   "cell_type": "code",
   "execution_count": 14,
   "id": "608cecb4",
   "metadata": {},
   "outputs": [
    {
     "name": "stdout",
     "output_type": "stream",
     "text": [
      "30.0\n",
      "10\n",
      "9\n",
      "10.0 <class 'float'>\n"
     ]
    }
   ],
   "source": [
    "import math\n",
    "print(math.sqrt(900))\n",
    "print(math.ceil(9.4))\n",
    "print(math.floor(9.8))\n",
    "print(math.fabs(-10),type(math.fabs(-10)))"
   ]
  },
  {
   "cell_type": "code",
   "execution_count": 19,
   "id": "8321dd2b",
   "metadata": {},
   "outputs": [
    {
     "name": "stdout",
     "output_type": "stream",
     "text": [
      "HALLO\n",
      "hallo\n"
     ]
    }
   ],
   "source": [
    "s=\"HaLlo\"\n",
    "print(s.upper())\n",
    "print(s.lower())"
   ]
  },
  {
   "cell_type": "code",
   "execution_count": 24,
   "id": "ee69da11",
   "metadata": {},
   "outputs": [
    {
     "name": "stdout",
     "output_type": "stream",
     "text": [
      "16\n",
      "16\n"
     ]
    }
   ],
   "source": [
    "x=3\n",
    "def num(n):\n",
    "    global y\n",
    "    y =10\n",
    "    return x+y+n\n",
    "print(num(3))\n",
    "def num2(n):\n",
    "    return x+y+n\n",
    "print(num2(3))"
   ]
  },
  {
   "cell_type": "code",
   "execution_count": 2,
   "id": "ab696041",
   "metadata": {},
   "outputs": [
    {
     "name": "stdout",
     "output_type": "stream",
     "text": [
      "4 5 6 4 3 1 3 5 1 5 1 3 1 4 4 6 6 2 1 3 3 2 2 6 4 2 2 1 4 2 1 4 4 2 3 6 3 6 1 6 2 2 1 3 4 6 1 1 2 3 2 4 2 6 2 3 5 3 6 2 6 5 3 6 2 5 4 3 6 2 5 1 1 2 2 4 1 6 2 6 4 2 4 4 5 6 1 5 5 2 2 1 1 4 5 1 6 3 4 1 4 "
     ]
    }
   ],
   "source": [
    "import random\n",
    "for i in range(101):\n",
    "    x=random.randrange(1,7)\n",
    "    print(x ,end =\" \")"
   ]
  },
  {
   "cell_type": "code",
   "execution_count": 8,
   "id": "283e5ca4",
   "metadata": {},
   "outputs": [
    {
     "name": "stdout",
     "output_type": "stream",
     "text": [
      "hellohello\n"
     ]
    }
   ],
   "source": [
    "def squar(a):\n",
    "    print(a*2)\n",
    "squar(\"hello\")"
   ]
  },
  {
   "cell_type": "code",
   "execution_count": 10,
   "id": "f2b0ef4e",
   "metadata": {},
   "outputs": [
    {
     "name": "stdout",
     "output_type": "stream",
     "text": [
      "length2\n",
      "breateh3\n",
      "area = 6\n"
     ]
    }
   ],
   "source": [
    "def area(l,b):\n",
    "    return l*b\n",
    "    \n",
    "l=int(input(\"length\"))\n",
    "b=int(input(\"breateh\"))\n",
    "print(\"area =\",area(l,b))"
   ]
  },
  {
   "cell_type": "code",
   "execution_count": null,
   "id": "f278cc08",
   "metadata": {},
   "outputs": [],
   "source": []
  }
 ],
 "metadata": {
  "kernelspec": {
   "display_name": "Python 3 (ipykernel)",
   "language": "python",
   "name": "python3"
  },
  "language_info": {
   "codemirror_mode": {
    "name": "ipython",
    "version": 3
   },
   "file_extension": ".py",
   "mimetype": "text/x-python",
   "name": "python",
   "nbconvert_exporter": "python",
   "pygments_lexer": "ipython3",
   "version": "3.9.7"
  }
 },
 "nbformat": 4,
 "nbformat_minor": 5
}
