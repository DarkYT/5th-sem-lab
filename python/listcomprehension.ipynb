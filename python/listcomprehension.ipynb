{
 "cells": [
  {
   "cell_type": "code",
   "execution_count": 18,
   "id": "e6a85f48",
   "metadata": {},
   "outputs": [
    {
     "name": "stdout",
     "output_type": "stream",
     "text": [
      "[1, 2, 3, 4, 5]\n",
      "[1, 4, 9, 16, 25]\n",
      "[2, 4, 6, 8]\n",
      "['RED', 'YELLO', 'BLUE', 'PINK']\n"
     ]
    }
   ],
   "source": [
    "list=[]\n",
    "for item in range(1,6):\n",
    "    list.append(item) \n",
    "list2=[item for item in range(1,6)]\n",
    "print(list2)\n",
    "\n",
    "list3=[1,2,3,4,5]\n",
    "for i in range(len(list3)):\n",
    "    list3[i]=list3[i]**2\n",
    "print(list3)\n",
    "list4=[item for item in range(1,10) if item%2==0]\n",
    "print(list4)\n",
    "colors=['red','yello','blue','pink']\n",
    "list5=[item.upper() for item in colors]\n",
    "print(list5)"
   ]
  },
  {
   "cell_type": "code",
   "execution_count": 20,
   "id": "e5d888c8",
   "metadata": {},
   "outputs": [
    {
     "name": "stdout",
     "output_type": "stream",
     "text": [
      "1 9 25 49 81 "
     ]
    }
   ],
   "source": [
    "num=[1,2,3,4,5,6,7,8,9,10]\n",
    "for value in (x**2 for x in num if x%2!=0):\n",
    "    print(value, end=\" \")"
   ]
  },
  {
   "cell_type": "code",
   "execution_count": 18,
   "id": "bb702835",
   "metadata": {},
   "outputs": [
    {
     "name": "stdout",
     "output_type": "stream",
     "text": [
      "[25, 81, 196, 256, 324]\n",
      "[1, 2, 3, 4, 5]\n",
      "[1, 8, 27, 64, 125, 216, 343]\n",
      "784\n"
     ]
    },
    {
     "data": {
      "text/plain": [
       "[True, False, True, False, True, False, True]"
      ]
     },
     "execution_count": 18,
     "metadata": {},
     "output_type": "execute_result"
    }
   ],
   "source": [
    "import functools\n",
    "list1=[5,9,14,16,18]\n",
    "result=list(map(lambda x:x**2,list1))\n",
    "# list()\n",
    "print(result)\n",
    "list4=list(map(abs,[-1,-2,-3,-4,-5]))\n",
    "print(list4)\n",
    "lst=[1,2,3,4,5,6,7]\n",
    "l=list(map(lambda x:x**3, lst))\n",
    "print(l)\n",
    "sum=functools.reduce(lambda x,y:x+y,l)\n",
    "print(sum)\n",
    "list(map(lambda x:x%2 !=0,lst))\n",
    "\n"
   ]
  },
  {
   "cell_type": "code",
   "execution_count": 20,
   "id": "d72ffcf3",
   "metadata": {},
   "outputs": [
    {
     "name": "stdout",
     "output_type": "stream",
     "text": [
      "[100, 4, 16, 36, 36]\n"
     ]
    }
   ],
   "source": [
    "num=[10,3,2,4,5,6,75,43,5,6,5]\n",
    "result=list(map(lambda x:x**2, filter(lambda x:x%2==0,num)))\n",
    "print(result)\n"
   ]
  },
  {
   "cell_type": "code",
   "execution_count": 22,
   "id": "b2af9749",
   "metadata": {},
   "outputs": [
    {
     "data": {
      "text/plain": [
       "True"
      ]
     },
     "execution_count": 22,
     "metadata": {},
     "output_type": "execute_result"
    }
   ],
   "source": [
    "'Red'<'orange'"
   ]
  },
  {
   "cell_type": "code",
   "execution_count": 25,
   "id": "6f5785b7",
   "metadata": {},
   "outputs": [
    {
     "data": {
      "text/plain": [
       "True"
      ]
     },
     "execution_count": 25,
     "metadata": {},
     "output_type": "execute_result"
    }
   ],
   "source": [
    "ord('R')<ord('o')"
   ]
  },
  {
   "cell_type": "code",
   "execution_count": 33,
   "id": "bfc5d4e4",
   "metadata": {},
   "outputs": [
    {
     "name": "stdout",
     "output_type": "stream",
     "text": [
      "blue\n",
      "yello\n"
     ]
    }
   ],
   "source": [
    "color=['red','blue','pink','yello']\n",
    "mini=min(color,key=lambda x:x.lower())\n",
    "print(mini)\n",
    "maxi=max(color,key=lambda x:x.lower())\n",
    "print(maxi)"
   ]
  },
  {
   "cell_type": "code",
   "execution_count": null,
   "id": "e2d683c8",
   "metadata": {},
   "outputs": [],
   "source": []
  },
  {
   "cell_type": "code",
   "execution_count": null,
   "id": "4220eca4",
   "metadata": {},
   "outputs": [],
   "source": [
    "\n",
    "\n"
   ]
  }
 ],
 "metadata": {
  "kernelspec": {
   "display_name": "Python 3 (ipykernel)",
   "language": "python",
   "name": "python3"
  },
  "language_info": {
   "codemirror_mode": {
    "name": "ipython",
    "version": 3
   },
   "file_extension": ".py",
   "mimetype": "text/x-python",
   "name": "python",
   "nbconvert_exporter": "python",
   "pygments_lexer": "ipython3",
   "version": "3.9.7"
  }
 },
 "nbformat": 4,
 "nbformat_minor": 5
}
