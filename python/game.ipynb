{
 "cells": [
  {
   "cell_type": "code",
   "execution_count": 16,
   "id": "8af9f5e3",
   "metadata": {},
   "outputs": [
    {
     "name": "stdout",
     "output_type": "stream",
     "text": [
      "100161 100194 100060 99808 99777 100000\n"
     ]
    }
   ],
   "source": [
    "import random;\n",
    "def rand():\n",
    "    a=b=c=d=e=f=0\n",
    "    for i in range (1,600001):\n",
    "        r=random.randint(1,6)\n",
    "        if r==1:\n",
    "            a+=1\n",
    "        if r==2:\n",
    "            b+=1\n",
    "        if r==3:\n",
    "            c+=1\n",
    "        if r==4:\n",
    "            d+=1\n",
    "        if r==5:\n",
    "            e+=1\n",
    "        if r==6:\n",
    "            f+=1\n",
    "            \n",
    "    print(a,b,c,d,e,f)\n",
    "rand()\n",
    "        "
   ]
  },
  {
   "cell_type": "code",
   "execution_count": 5,
   "id": "943fb534",
   "metadata": {},
   "outputs": [
    {
     "name": "stdout",
     "output_type": "stream",
     "text": [
      "4 1 1 3 0 1\n"
     ]
    }
   ],
   "source": [
    "import random;\n",
    "def rand():\n",
    "    a=b=c=d=e=f=0\n",
    "    for i in range (10):\n",
    "        r=random.randint(1,6)\n",
    "        if r==1:\n",
    "            a+=1\n",
    "        if r==2:\n",
    "            b+=1\n",
    "        if r==3:\n",
    "            c+=1\n",
    "        if r==4:\n",
    "            d+=1\n",
    "        if r==5:\n",
    "            e+=1\n",
    "        if r==6:\n",
    "            f+=1\n",
    "            \n",
    "    print(a,b,c,d,e,f)\n",
    "rand()\n",
    "        "
   ]
  },
  {
   "cell_type": "code",
   "execution_count": 1,
   "id": "a3ef6355",
   "metadata": {},
   "outputs": [
    {
     "name": "stdout",
     "output_type": "stream",
     "text": [
      "0 600000 0 0 0 0\n"
     ]
    }
   ],
   "source": [
    "import random;\n",
    "def rand():\n",
    "    a=b=c=d=e=f=0\n",
    "    for i in range (6):\n",
    "        random.seed(4)\n",
    "        r=random.randrange(1,7)\n",
    "        if r==1:\n",
    "            a+=1\n",
    "        if r==2:\n",
    "            b+=1\n",
    "        if r==3:\n",
    "            c+=1\n",
    "        if r==4:\n",
    "            d+=1\n",
    "        if r==5:\n",
    "            e+=1\n",
    "        if r==6:\n",
    "            f+=1\n",
    "            \n",
    "    print(a,b,c,d,e,f)\n",
    "rand()\n",
    "        "
   ]
  },
  {
   "cell_type": "code",
   "execution_count": 30,
   "id": "d7d62c4e",
   "metadata": {},
   "outputs": [
    {
     "name": "stdout",
     "output_type": "stream",
     "text": [
      "first role  11\n",
      "you win \n"
     ]
    }
   ],
   "source": []
  },
  {
   "cell_type": "code",
   "execution_count": 43,
   "id": "d8c91ec3",
   "metadata": {},
   "outputs": [
    {
     "name": "stdout",
     "output_type": "stream",
     "text": [
      "first role  8\n",
      "you get another chance : \n",
      "2th role = 4\n",
      "keep palying \n",
      "3th role = 10\n",
      "keep palying \n",
      "4th role = 5\n",
      "keep palying \n",
      "5th role = 7\n",
      "you lose \n"
     ]
    }
   ],
   "source": [
    "def rand():\n",
    "        flag=True\n",
    "        count=2\n",
    "        r=random.randint(1,6)\n",
    "        s=random.randint(1,6)\n",
    "        sum=r+s\n",
    "        print(\"first role \",sum)\n",
    "        if sum ==7 or sum==11:\n",
    "            print(\"you win \")\n",
    "        elif sum ==1 or sum==3 or sum==12:\n",
    "            print(\"you lose \")\n",
    "        elif sum in range(4,11):\n",
    "            print(\"you get another chance : \")\n",
    "            while(flag):\n",
    "               \n",
    "                r=random.randint(1,6)\n",
    "                s=random.randint(1,6)\n",
    "                sum1=r+s\n",
    "                print(f\"{count}th role = {sum1}\")\n",
    "                if sum1==sum:\n",
    "                    print(\"you win \")\n",
    "                    flag=False\n",
    "                elif sum1==7:\n",
    "                    print(\"you lose \")\n",
    "                    flag=False\n",
    "                else:\n",
    "                      print(\"keep palying \")\n",
    "                      flag= True\n",
    "                count+=1\n",
    "rand()\n",
    "    "
   ]
  },
  {
   "cell_type": "code",
   "execution_count": 51,
   "id": "80ff17a4",
   "metadata": {},
   "outputs": [
    {
     "data": {
      "text/plain": [
       "11"
      ]
     },
     "execution_count": 51,
     "metadata": {},
     "output_type": "execute_result"
    }
   ],
   "source": [
    "from math import ceil,floor\n",
    "from math import*\n",
    "ceil(10.3)\n",
    "# floor(10.3)\n"
   ]
  },
  {
   "cell_type": "code",
   "execution_count": 61,
   "id": "41f72fff",
   "metadata": {},
   "outputs": [
    {
     "name": "stdout",
     "output_type": "stream",
     "text": [
      "140716712417648\n",
      "True\n"
     ]
    },
    {
     "name": "stderr",
     "output_type": "stream",
     "text": [
      "<>:6: SyntaxWarning: \"is\" with a literal. Did you mean \"==\"?\n",
      "<>:6: SyntaxWarning: \"is\" with a literal. Did you mean \"==\"?\n",
      "/tmp/ipykernel_9318/2052332657.py:6: SyntaxWarning: \"is\" with a literal. Did you mean \"==\"?\n",
      "  print( 3 is x)\n"
     ]
    }
   ],
   "source": [
    "# call by id (using the address )\n",
    "x=3\n",
    "y=3\n",
    "id(x)\n",
    "print(id(x))\n",
    "print( 3 is x)"
   ]
  },
  {
   "cell_type": "code",
   "execution_count": 66,
   "id": "bda18ddb",
   "metadata": {},
   "outputs": [
    {
     "name": "stdout",
     "output_type": "stream",
     "text": [
      "id of num : 140716712417648\n",
      "140716712417840\n"
     ]
    },
    {
     "data": {
      "text/plain": [
       "9"
      ]
     },
     "execution_count": 66,
     "metadata": {},
     "output_type": "execute_result"
    }
   ],
   "source": [
    "def cube(num):\n",
    "    print('id of num :' ,id(num))\n",
    "    num*=3\n",
    "    print(id(num))\n",
    "    return num\n",
    "cube(3)"
   ]
  },
  {
   "cell_type": "code",
   "execution_count": null,
   "id": "433515ee",
   "metadata": {},
   "outputs": [],
   "source": []
  }
 ],
 "metadata": {
  "kernelspec": {
   "display_name": "Python 3 (ipykernel)",
   "language": "python",
   "name": "python3"
  },
  "language_info": {
   "codemirror_mode": {
    "name": "ipython",
    "version": 3
   },
   "file_extension": ".py",
   "mimetype": "text/x-python",
   "name": "python",
   "nbconvert_exporter": "python",
   "pygments_lexer": "ipython3",
   "version": "3.9.7"
  }
 },
 "nbformat": 4,
 "nbformat_minor": 5
}
