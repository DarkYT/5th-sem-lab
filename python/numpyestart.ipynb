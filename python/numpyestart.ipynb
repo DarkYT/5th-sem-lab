{
 "cells": [
  {
   "cell_type": "code",
   "execution_count": 5,
   "id": "df89f728",
   "metadata": {},
   "outputs": [
    {
     "name": "stdout",
     "output_type": "stream",
     "text": [
      "[ 2  3  4  5  7 11]\n"
     ]
    },
    {
     "ename": "TypeError",
     "evalue": "'numpy.int64' object is not iterable",
     "output_type": "error",
     "traceback": [
      "\u001b[0;31m---------------------------------------------------------------------------\u001b[0m",
      "\u001b[0;31mTypeError\u001b[0m                                 Traceback (most recent call last)",
      "\u001b[0;32m/tmp/ipykernel_10448/617419279.py\u001b[0m in \u001b[0;36m<module>\u001b[0;34m\u001b[0m\n\u001b[1;32m      5\u001b[0m \u001b[0;34m\u001b[0m\u001b[0m\n\u001b[1;32m      6\u001b[0m \u001b[0;32mfor\u001b[0m \u001b[0mrow\u001b[0m \u001b[0;32min\u001b[0m \u001b[0mnumbers\u001b[0m\u001b[0;34m:\u001b[0m\u001b[0;34m\u001b[0m\u001b[0;34m\u001b[0m\u001b[0m\n\u001b[0;32m----> 7\u001b[0;31m     \u001b[0;32mfor\u001b[0m \u001b[0mcolumn\u001b[0m \u001b[0;32min\u001b[0m \u001b[0mrow\u001b[0m\u001b[0;34m:\u001b[0m\u001b[0;34m\u001b[0m\u001b[0;34m\u001b[0m\u001b[0m\n\u001b[0m\u001b[1;32m      8\u001b[0m         \u001b[0mprint\u001b[0m\u001b[0;34m(\u001b[0m\u001b[0mcolumn\u001b[0m\u001b[0;34m,\u001b[0m \u001b[0mend\u001b[0m\u001b[0;34m=\u001b[0m\u001b[0;34m\"\"\u001b[0m\u001b[0;34m)\u001b[0m\u001b[0;34m\u001b[0m\u001b[0;34m\u001b[0m\u001b[0m\n\u001b[1;32m      9\u001b[0m     \u001b[0mprint\u001b[0m\u001b[0;34m(\u001b[0m\u001b[0;34m)\u001b[0m\u001b[0;34m\u001b[0m\u001b[0;34m\u001b[0m\u001b[0m\n",
      "\u001b[0;31mTypeError\u001b[0m: 'numpy.int64' object is not iterable"
     ]
    }
   ],
   "source": [
    "import numpy as np \n",
    "numbers= np.array([2,3,4,5,7,11])\n",
    "type(numbers)\n",
    "print(numbers)\n",
    "\n",
    "for row in numbers:\n",
    "    for column in row:\n",
    "        print(column, end=\"\")\n",
    "    print()\n",
    "    "
   ]
  },
  {
   "cell_type": "code",
   "execution_count": 20,
   "id": "d041299a",
   "metadata": {},
   "outputs": [
    {
     "name": "stdout",
     "output_type": "stream",
     "text": [
      "24567[0 0 0 0 0]\n"
     ]
    },
    {
     "data": {
      "text/plain": [
       "array([[13, 13, 13, 13, 13],\n",
       "       [13, 13, 13, 13, 13],\n",
       "       [13, 13, 13, 13, 13]])"
      ]
     },
     "execution_count": 20,
     "metadata": {},
     "output_type": "execute_result"
    }
   ],
   "source": [
    "import numpy as np\n",
    "integers=np.array([2,4,5,6,7])\n",
    "for i in integers.flat:\n",
    "    print(i,end=\"\")\n",
    "    \n",
    "print(np.zeros(5,int))\n",
    "# print(np.oves((2,4),int))\n",
    "np.full((3,5),13)"
   ]
  },
  {
   "cell_type": "code",
   "execution_count": 40,
   "id": "6dd39269",
   "metadata": {},
   "outputs": [
    {
     "name": "stdout",
     "output_type": "stream",
     "text": [
      "[[13 13 13 13 13]\n",
      " [13 13 13 13 13]\n",
      " [13 13 13 13 13]]\n",
      "[[ 1  2  3  4  5]\n",
      " [ 6  7  8  9 10]\n",
      " [11 12 13 14 15]\n",
      " [16 17 18 19 20]]\n",
      "[0 1 2 3 4]\n",
      "[5 6 7 8 9]\n",
      "[10  8  6  4  2]\n",
      "[[     1      2      3 ...    998    999   1000]\n",
      " [  1001   1002   1003 ...   1998   1999   2000]\n",
      " [  2001   2002   2003 ...   2998   2999   3000]\n",
      " ...\n",
      " [ 97001  97002  97003 ...  97998  97999  98000]\n",
      " [ 98001  98002  98003 ...  98998  98999  99000]\n",
      " [ 99001  99002  99003 ...  99998  99999 100000]]\n"
     ]
    },
    {
     "data": {
      "text/plain": [
       "array([0.  , 0.25, 0.5 , 0.75, 1.  ])"
      ]
     },
     "execution_count": 40,
     "metadata": {},
     "output_type": "execute_result"
    }
   ],
   "source": [
    "import numpy as np\n",
    "\n",
    "print(np.full((3,5),13))\n",
    "print(np.arange(1,21).reshape(4,5))\n",
    "print(np.arange(5))\n",
    "print(np.arange(5,10))\n",
    "print(np.arange(10,1,-2))\n",
    "print(np.arange(1,100001).reshape(100,1000))\n",
    "np.linspace(0.0,1.0,5)"
   ]
  },
  {
   "cell_type": "code",
   "execution_count": 46,
   "id": "f8250ab6",
   "metadata": {},
   "outputs": [
    {
     "name": "stdout",
     "output_type": "stream",
     "text": [
      "[ 4  8 10 12 14]\n",
      "[  8  64 125 216 343]\n",
      "[2 4 5 6 7]\n",
      "[False  True  True  True  True]\n",
      "[False  True False False False]\n"
     ]
    }
   ],
   "source": [
    "import numpy as np\n",
    "num=np.array([2,4,5,6,7])\n",
    "print(num*2)\n",
    "print(num**3)\n",
    "print(num)\n",
    "print(num>=4)\n",
    "print(num==4)\n"
   ]
  },
  {
   "cell_type": "code",
   "execution_count": 54,
   "id": "6a821172",
   "metadata": {},
   "outputs": [
    {
     "name": "stdout",
     "output_type": "stream",
     "text": [
      "757\n",
      "50\n",
      "100\n",
      "84.11111111111111\n",
      "15.095580254163023\n",
      "227.87654320987656\n"
     ]
    }
   ],
   "source": [
    "import numpy as np\n",
    "grades=np.array([[87,90,86],[100,87,90],[100,50,67]])\n",
    "print(grades.sum())\n",
    "print(grades.min())\n",
    "print(grades.max())\n",
    "print(grades.mean())\n",
    "print(grades.std())\n",
    "print(grades.var())"
   ]
  },
  {
   "cell_type": "code",
   "execution_count": 67,
   "id": "428d2620",
   "metadata": {},
   "outputs": [
    {
     "name": "stdout",
     "output_type": "stream",
     "text": [
      "[1.         2.         2.64575131 3.         9.8488578  9.        ]\n",
      "[10 20 30 40 50 60]\n",
      "[ 11  24  37  49 147 141]\n",
      "[ 50 100 150 200 250 300]\n"
     ]
    }
   ],
   "source": [
    "import numpy as np\n",
    "num=np.array([1,4,7,9,97,81])\n",
    "print(np.sqrt(num))\n",
    "num2=np.arange(1,7)*10\n",
    "print(num2)\n",
    "num3=np.add(num,num2)#num &num2 must be equal length\n",
    "print(num3)\n",
    "print(np.multiply(num2,5))\n"
   ]
  },
  {
   "cell_type": "code",
   "execution_count": 79,
   "id": "b45626de",
   "metadata": {},
   "outputs": [
    {
     "name": "stdout",
     "output_type": "stream",
     "text": [
      "[[ 87  90  86]\n",
      " [100  87  90]\n",
      " [100  50  67]]\n",
      "90\n",
      "\n",
      "[[ 87  90  86]\n",
      " [100  87  90]]\n",
      "\n",
      "[ 87 100 100]\n",
      "\n",
      "[[90 86]\n",
      " [87 90]\n",
      " [50 67]]\n",
      "\n",
      "[[ 87  86]\n",
      " [100  90]\n",
      " [100  67]]\n"
     ]
    }
   ],
   "source": [
    "import numpy as np\n",
    "grade=np.array([[87,90,86],[100,87,90],[100,50,67]])\n",
    "print(grade)\n",
    "print(grade[0,1])\n",
    "print()\n",
    "print(grade[0:2])\n",
    "print()\n",
    "print(grade[:,0])\n",
    "print()\n",
    "print(grade[:,1:3])\n",
    "print()\n",
    "print(grade[:,[0,2]])"
   ]
  },
  {
   "cell_type": "code",
   "execution_count": 85,
   "id": "fda953e0",
   "metadata": {},
   "outputs": [
    {
     "name": "stdout",
     "output_type": "stream",
     "text": [
      "[ 1  4  7  9 97 81]\n",
      "140015742965584\n",
      "140015742965488\n",
      "\n",
      "[ 1  4  7  9 97 81]\n",
      "[1 4 7]\n"
     ]
    }
   ],
   "source": [
    "import numpy as np\n",
    "num=np.array([1,4,7,9,97,81])\n",
    "num2=num.view()\n",
    "print(num2)\n",
    "print(id(num))\n",
    "print(id(num2))\n",
    "print()\n",
    "num2=num[0:3]\n",
    "print(num)\n",
    "print(num2)"
   ]
  },
  {
   "cell_type": "code",
   "execution_count": 95,
   "id": "60fb0b4b",
   "metadata": {},
   "outputs": [
    {
     "name": "stdout",
     "output_type": "stream",
     "text": [
      "[[ 87  90  86]\n",
      " [100  87  90]\n",
      " [100  50  67]]\n",
      "[[ 87]\n",
      " [ 90]\n",
      " [ 86]\n",
      " [100]\n",
      " [ 87]\n",
      " [ 90]\n",
      " [100]\n",
      " [ 50]\n",
      " [ 67]]\n",
      "[[ 87  90  86]\n",
      " [100  87  90]\n",
      " [100  50  67]]\n"
     ]
    }
   ],
   "source": [
    "import numpy as np\n",
    "grade=np.array([[87,90,86],[100,87,90],[100,50,67]])\n",
    "print(grade)\n",
    "print(grade.reshape(9,1)) #total length (like shallow copy)\n",
    "print(grade)\n"
   ]
  },
  {
   "cell_type": "code",
   "execution_count": null,
   "id": "b36a67be",
   "metadata": {},
   "outputs": [],
   "source": [
    "import pandas as pd\n",
    "grade=[[87,90,86],[100,87,90],[100,50,67],'spsahd',\"sg twegwreg\"]\n",
    "g=pd.DataFrame(grade)\n",
    "pd.DataFrame()"
   ]
  }
 ],
 "metadata": {
  "kernelspec": {
   "display_name": "Python 3 (ipykernel)",
   "language": "python",
   "name": "python3"
  },
  "language_info": {
   "codemirror_mode": {
    "name": "ipython",
    "version": 3
   },
   "file_extension": ".py",
   "mimetype": "text/x-python",
   "name": "python",
   "nbconvert_exporter": "python",
   "pygments_lexer": "ipython3",
   "version": "3.9.7"
  }
 },
 "nbformat": 4,
 "nbformat_minor": 5
}
