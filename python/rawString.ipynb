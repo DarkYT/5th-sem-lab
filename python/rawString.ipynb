{
 "cells": [
  {
   "cell_type": "code",
   "execution_count": 7,
   "id": "bd307cdd",
   "metadata": {},
   "outputs": [
    {
     "name": "stdout",
     "output_type": "stream",
     "text": [
      "<re.Match object; span=(0, 5), match='patel'>\n"
     ]
    }
   ],
   "source": [
    "import re\n",
    "a=\"hello world\"\n",
    "b=\"patelspandan8260@gmail.com\"\n",
    "c=\"hello\"\n",
    "d=\"xyz,xxyyz,yz,xxzzy,zyx\"\n",
    "match=re.search(r\"^patel\",b)  # ^ -> using this signe it start search from start\n",
    "print(match)"
   ]
  },
  {
   "cell_type": "code",
   "execution_count": 11,
   "id": "d0993d6c",
   "metadata": {},
   "outputs": [
    {
     "name": "stdout",
     "output_type": "stream",
     "text": [
      "['x', 'y']\n"
     ]
    }
   ],
   "source": [
    "import re\n",
    "a=\"hello world\"\n",
    "b=\"patelspandan8260@gmail.com\"\n",
    "c=\"hello\"\n",
    "d=\"xyz,xxyyz,yz,xxzzy,zyx\"\n",
    "match=re.findall(r\"(x|y)yz\",d)  # ^ -> using this signe it start search from start\n",
    "print(match)\n",
    "\n"
   ]
  },
  {
   "cell_type": "code",
   "execution_count": 12,
   "id": "bb132e50",
   "metadata": {},
   "outputs": [
    {
     "name": "stdout",
     "output_type": "stream",
     "text": [
      "<re.Match object; span=(6, 9), match='pot'>\n"
     ]
    }
   ],
   "source": [
    "import re\n",
    "a=\"harry potter\"\n",
    "match=re.search(r\"pot\\B\",a)\n",
    "print(match)"
   ]
  },
  {
   "cell_type": "code",
   "execution_count": 14,
   "id": "05a2de2e",
   "metadata": {},
   "outputs": [
    {
     "name": "stdout",
     "output_type": "stream",
     "text": [
      "['h', 'a', 'r', 'r', 'y', 'p', 'o', 't', 't', 'e', 'r']\n"
     ]
    }
   ],
   "source": [
    "import re \n",
    "a=\"harry12potter98\"\n",
    "match=re.findall(r\"\\D\",a)\n",
    "print(match)"
   ]
  },
  {
   "cell_type": "code",
   "execution_count": 15,
   "id": "4c199672",
   "metadata": {},
   "outputs": [
    {
     "name": "stdout",
     "output_type": "stream",
     "text": [
      "['h', 'a', 'r', 'r', 'y', ' ', 'p', 'o', 't', 't', 'e', 'r']\n"
     ]
    }
   ],
   "source": [
    "import re \n",
    "a=\"harry12 potter98\"\n",
    "match=re.findall(r\"\\D\",a) # return not integer\n",
    "print(match)"
   ]
  },
  {
   "cell_type": "code",
   "execution_count": 2,
   "id": "773f3b8e",
   "metadata": {},
   "outputs": [
    {
     "name": "stdout",
     "output_type": "stream",
     "text": [
      "['h', 'a', 'r', 'r', 'y', '1', '2', 'p', 'o', 't', 't', 'e', 'r', '9', '8']\n"
     ]
    }
   ],
   "source": [
    "import re \n",
    "a=\"harry12 potter98\"\n",
    "match=re.findall(r\"\\S\",a) # exclude _ space (remove the space)\n",
    "print(match)"
   ]
  },
  {
   "cell_type": "code",
   "execution_count": 6,
   "id": "2fb3cd87",
   "metadata": {},
   "outputs": [
    {
     "name": "stdout",
     "output_type": "stream",
     "text": [
      "['h', 'a', 'r', 'r', 'y', '1', '2', 'p', 'o', 't', 't', 'e', 'r', '9', '8']\n"
     ]
    }
   ],
   "source": [
    "import re \n",
    "a=\"harry#12 potter98\"\n",
    "match=re.findall(r\"\\w\",a) #return all the alpha numeric (except symbols)\n",
    "print(match)"
   ]
  },
  {
   "cell_type": "code",
   "execution_count": 12,
   "id": "17c96d6b",
   "metadata": {},
   "outputs": [
    {
     "name": "stdout",
     "output_type": "stream",
     "text": [
      "['@98']\n"
     ]
    }
   ],
   "source": [
    "import re \n",
    "a=\"harry#12 potter@98\"\n",
    "match=re.findall(r\"@98\\Z\",a) # return the end string (if it is in the lats)\n",
    "print(match)"
   ]
  },
  {
   "cell_type": "code",
   "execution_count": 17,
   "id": "6c27ba7b",
   "metadata": {},
   "outputs": [
    {
     "name": "stdout",
     "output_type": "stream",
     "text": [
      "['y', '1', '2', ' ', '9', '8']\n"
     ]
    }
   ],
   "source": [
    "import re \n",
    "a=\"harry12 potter98\"\n",
    "match=re.findall(r\"[^a-t]\",a) # return all string except the char present in [a-t]\n",
    "print(match)"
   ]
  },
  {
   "cell_type": "code",
   "execution_count": 18,
   "id": "2480886e",
   "metadata": {},
   "outputs": [
    {
     "name": "stdout",
     "output_type": "stream",
     "text": [
      "['h', 'a', 'r', 'r', 'p', 'o', 't', 't', 'e', 'r']\n"
     ]
    }
   ],
   "source": [
    "import re \n",
    "a=\"harry12 potter98\"\n",
    "match=re.findall(r\"[a-t]\",a) # return all string present in betn [a-t]\n",
    "print(match)"
   ]
  },
  {
   "cell_type": "code",
   "execution_count": 21,
   "id": "31ee1823",
   "metadata": {},
   "outputs": [
    {
     "name": "stdout",
     "output_type": "stream",
     "text": [
      "['#', '#']\n"
     ]
    }
   ],
   "source": [
    "import re \n",
    "a=\"harry#12 potte#r@98\"\n",
    "match=re.findall(r\"[#]\",a) # return all the matching element\n",
    "print(match)"
   ]
  },
  {
   "cell_type": "code",
   "execution_count": 22,
   "id": "31b208dc",
   "metadata": {},
   "outputs": [
    {
     "name": "stdout",
     "output_type": "stream",
     "text": [
      "<re.Match object; span=(6, 7), match='a'>\n"
     ]
    }
   ],
   "source": [
    "import re \n",
    "a=\"john has secured 98 marks. Lisa has secured 75 marks .Sonny has something 232%@#%@\"\n",
    "p=re.compile(\"[a-d]\") # after compilation it stores the string as an array than you can perform any task \n",
    "print(re.search(p,a))"
   ]
  },
  {
   "cell_type": "code",
   "execution_count": 27,
   "id": "748e3cf7",
   "metadata": {},
   "outputs": [
    {
     "name": "stdout",
     "output_type": "stream",
     "text": [
      "('john#has#secured#98#marks.#Lisa#has#secured#75#marks#.Sonny#has#something#232%@#%@', 13)\n",
      "('john    has secured @ marks. Lisa has secured @ marks .Sonny has something @%@#%@', 3)\n"
     ]
    }
   ],
   "source": [
    "import re \n",
    "a=\"john    has secured 98 marks. Lisa has secured 75 marks .Sonny has something 232%@#%@\" \n",
    "print(re.subn(\"\\s+\",\"#\",a)) # replace space with #\n",
    "print(re.subn(\"\\d+\",\"@\",a)) # replace digit with @\n",
    "              # what to replace , \"whit h\""
   ]
  },
  {
   "cell_type": "code",
   "execution_count": null,
   "id": "843278db",
   "metadata": {},
   "outputs": [],
   "source": []
  }
 ],
 "metadata": {
  "kernelspec": {
   "display_name": "Python 3 (ipykernel)",
   "language": "python",
   "name": "python3"
  },
  "language_info": {
   "codemirror_mode": {
    "name": "ipython",
    "version": 3
   },
   "file_extension": ".py",
   "mimetype": "text/x-python",
   "name": "python",
   "nbconvert_exporter": "python",
   "pygments_lexer": "ipython3",
   "version": "3.9.7"
  }
 },
 "nbformat": 4,
 "nbformat_minor": 5
}
